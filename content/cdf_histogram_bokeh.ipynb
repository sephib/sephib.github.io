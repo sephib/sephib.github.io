{
 "cells": [
  {
   "cell_type": "markdown",
   "metadata": {},
   "source": [
    "# Exploring data with CDF"
   ]
  },
  {
   "source": [
    "## Background\n",
    "Enspired by [Eric Ma](https://ericmjl.github.io/blog/2018/7/14/ecdfs/) I am describing how to analyize pandas Series from with bokeh and holoviews\n"
   ],
   "cell_type": "markdown",
   "metadata": {}
  },
  {
   "source": [
    "## Intro to  "
   ],
   "cell_type": "markdown",
   "metadata": {}
  },
  {
   "cell_type": "code",
   "execution_count": 2,
   "metadata": {},
   "outputs": [
    {
     "output_type": "error",
     "ename": "ModuleNotFoundError",
     "evalue": "No module named 'holoviews'",
     "traceback": [
      "\u001b[0;31m---------------------------------------------------------------------------\u001b[0m",
      "\u001b[0;31mModuleNotFoundError\u001b[0m                       Traceback (most recent call last)",
      "\u001b[0;32m<ipython-input-2-008423c2fb3d>\u001b[0m in \u001b[0;36m<module>\u001b[0;34m\u001b[0m\n\u001b[1;32m      3\u001b[0m \u001b[0;32mfrom\u001b[0m \u001b[0mbokeh\u001b[0m\u001b[0;34m.\u001b[0m\u001b[0msampledata\u001b[0m\u001b[0;34m.\u001b[0m\u001b[0mautompg\u001b[0m \u001b[0;32mimport\u001b[0m \u001b[0mautompg\u001b[0m\u001b[0;34m\u001b[0m\u001b[0;34m\u001b[0m\u001b[0m\n\u001b[1;32m      4\u001b[0m \u001b[0;32mfrom\u001b[0m \u001b[0mbokeh\u001b[0m\u001b[0;34m.\u001b[0m\u001b[0mmodels\u001b[0m \u001b[0;32mimport\u001b[0m \u001b[0mRange1d\u001b[0m\u001b[0;34m,\u001b[0m \u001b[0mLinearAxis\u001b[0m\u001b[0;34m\u001b[0m\u001b[0;34m\u001b[0m\u001b[0m\n\u001b[0;32m----> 5\u001b[0;31m \u001b[0;32mimport\u001b[0m \u001b[0mholoviews\u001b[0m \u001b[0;32mas\u001b[0m \u001b[0mhv\u001b[0m\u001b[0;34m\u001b[0m\u001b[0;34m\u001b[0m\u001b[0m\n\u001b[0m\u001b[1;32m      6\u001b[0m \u001b[0;34m\u001b[0m\u001b[0m\n\u001b[1;32m      7\u001b[0m \u001b[0mhv\u001b[0m\u001b[0;34m.\u001b[0m\u001b[0mextension\u001b[0m\u001b[0;34m(\u001b[0m\u001b[0;34m'bokeh'\u001b[0m\u001b[0;34m)\u001b[0m\u001b[0;34m\u001b[0m\u001b[0;34m\u001b[0m\u001b[0m\n",
      "\u001b[0;31mModuleNotFoundError\u001b[0m: No module named 'holoviews'"
     ]
    }
   ],
   "source": [
    "import numpy as np\n",
    "import pandas as pd\n",
    "from bokeh.sampledata.autompg import autompg\n",
    "from bokeh.models import Range1d, LinearAxis\n",
    "import holoviews as hv\n",
    "\n",
    "hv.extension('bokeh')\n",
    "autompg = autompg.set_index('name')\n",
    "autompg.head()"
   ]
  },
  {
   "cell_type": "code",
   "execution_count": 31,
   "metadata": {},
   "outputs": [
    {
     "data": {
      "text/html": [
       "<div>\n",
       "<style scoped>\n",
       "    .dataframe tbody tr th:only-of-type {\n",
       "        vertical-align: middle;\n",
       "    }\n",
       "\n",
       "    .dataframe tbody tr th {\n",
       "        vertical-align: top;\n",
       "    }\n",
       "\n",
       "    .dataframe thead th {\n",
       "        text-align: right;\n",
       "    }\n",
       "</style>\n",
       "<table border=\"1\" class=\"dataframe\">\n",
       "  <thead>\n",
       "    <tr style=\"text-align: right;\">\n",
       "      <th></th>\n",
       "      <th>mpg_val_in_bins</th>\n",
       "      <th>mpg_cdf</th>\n",
       "    </tr>\n",
       "    <tr>\n",
       "      <th>mpg_bins</th>\n",
       "      <th></th>\n",
       "      <th></th>\n",
       "    </tr>\n",
       "  </thead>\n",
       "  <tbody>\n",
       "    <tr>\n",
       "      <th>10.253333</th>\n",
       "      <td>3</td>\n",
       "      <td>0.008</td>\n",
       "    </tr>\n",
       "    <tr>\n",
       "      <th>11.506667</th>\n",
       "      <td>4</td>\n",
       "      <td>0.018</td>\n",
       "    </tr>\n",
       "    <tr>\n",
       "      <th>12.760000</th>\n",
       "      <td>6</td>\n",
       "      <td>0.033</td>\n",
       "    </tr>\n",
       "    <tr>\n",
       "      <th>14.013333</th>\n",
       "      <td>39</td>\n",
       "      <td>0.133</td>\n",
       "    </tr>\n",
       "    <tr>\n",
       "      <th>15.266667</th>\n",
       "      <td>17</td>\n",
       "      <td>0.176</td>\n",
       "    </tr>\n",
       "  </tbody>\n",
       "</table>\n",
       "</div>"
      ],
      "text/plain": [
       "           mpg_val_in_bins  mpg_cdf\n",
       "mpg_bins                           \n",
       "10.253333                3    0.008\n",
       "11.506667                4    0.018\n",
       "12.760000                6    0.033\n",
       "14.013333               39    0.133\n",
       "15.266667               17    0.176"
      ]
     },
     "execution_count": 31,
     "metadata": {},
     "output_type": "execute_result"
    }
   ],
   "source": [
    "def create_hist_cdf(df:pd.DataFrame, col: str, bins=10):\n",
    "    np_out, np_bins = np.histogram(df[col], bins=bins)\n",
    "    cdf = (np_out.cumsum() / np_out.sum()).round(3) \n",
    "    df = pd.DataFrame(data=list(zip(np_out, cdf)), index=np_bins[1:], columns=[f'{col}_val_in_bins', f'{col}_cdf'])\n",
    "    df.index.name = f\"{col}_bins\"\n",
    "    return df\n",
    "\n",
    "df = create_hist_cdf(autompg, 'mpg', bins = 30)\n",
    "# count, division = np.histogram(autompg.mpg)\n",
    "# np_out, np_bins = np.histogram(autompg.mpg, bins=50)\n",
    "# cdf = (np_out.cumsum() / np_out.sum()).round(3) \n",
    "# df = pd.DataFrame(data=list(zip(np_out, cdf)), index=np_bins[1:], columns=['values_in_bin', 'cdf'])\n",
    "# df.index.name = \"bins\"\n",
    "df.head()"
   ]
  },
  {
   "cell_type": "code",
   "execution_count": 21,
   "metadata": {},
   "outputs": [],
   "source": [
    "def plot_secondary(plot, element):\n",
    "    ''' \n",
    "    A hook to put data on secondary axis\n",
    "    '''\n",
    "    p = plot.state\n",
    "    \n",
    "    # create secondary range and axis\n",
    "    if 'twiny' not in [t for t in p.extra_y_ranges]:\n",
    "        # you need to manually recreate primary axis to avoid weird behavior if you are going to \n",
    "        # use secondary_axis in your plots. From what i know this also relates to the way axis\n",
    "        # behave in bokeh and unfortunately cannot be modified from hv unless you are \n",
    "        # willing to rewrite quite a bit of code\n",
    "#         p.y_range = Range1d(start=0, end=10)\n",
    "        p.y_range.name = 'default'\n",
    "        p.extra_y_ranges = {\"twiny\": Range1d(start=0, end=10)}\n",
    "        p.add_layout(LinearAxis(y_range_name=\"twiny\"), 'right')\n",
    "\n",
    "    # set glyph y_range_name to the one we've just created\n",
    "    glyph = p.renderers[-1]\n",
    "    glyph.y_range_name = 'twiny'\n",
    "\n",
    "    # set proper range\n",
    "    glyph = p.renderers[-1]\n",
    "    vals = glyph.data_source.data['y'] # ugly hardcoded solution, see notes below\n",
    "    p.extra_y_ranges[\"twiny\"].start = vals.min()* 0.99\n",
    "    p.extra_y_ranges[\"twiny\"].end = vals.max()* 1.01"
   ]
  },
  {
   "cell_type": "code",
   "execution_count": 41,
   "metadata": {},
   "outputs": [],
   "source": [
    "def get_overlay(df, col_vals, col_cumsum, label):    \n",
    "    cdf = hv.Curve((df.index, df[col_cumsum]), label=col_cumsum)\n",
    "    hist = hv.Histogram((df.index, df[col_vals].tolist()), label=col_vals, kdims=[df.index.name], vdims=[col_vals])\n",
    "\n",
    "    primary = hist.opts(width=600, color='grey',  )    \n",
    "    secondary = cdf.opts(width=600, color='red', show_grid=True, framewise=True, hooks=[plot_secondary])\n",
    "    return primary * secondary \n",
    "\n",
    "# get_overlay(df, \"mpg_val_in_bins\", \"mpg_cdf\", \"asdfsadf\")"
   ]
  },
  {
   "cell_type": "code",
   "execution_count": 42,
   "metadata": {},
   "outputs": [
    {
     "data": {},
     "metadata": {},
     "output_type": "display_data"
    },
    {
     "data": {
      "application/vnd.holoviews_exec.v0+json": "",
      "text/html": [
       "<div id='6645'>\n",
       "\n",
       "\n",
       "\n",
       "\n",
       "\n",
       "  <div class=\"bk-root\" id=\"11014ea6-544f-4b8e-a40f-d9866bf2ab72\" data-root-id=\"6645\"></div>\n",
       "</div>\n",
       "<script type=\"application/javascript\">(function(root) {\n",
       "  function embed_document(root) {\n",
       "    var docs_json = {\"9935ee47-3d2f-4de7-b24d-272587e79d3e\":{\"roots\":{\"references\":[{\"attributes\":{\"axis\":{\"id\":\"6658\"},\"ticker\":{\"id\":\"6659\"}},\"id\":\"6661\",\"type\":\"Grid\"},{\"attributes\":{\"line_alpha\":0.1,\"line_color\":\"red\",\"line_width\":2,\"x\":{\"field\":\"x\"},\"y\":{\"field\":\"y\"}},\"id\":\"6706\",\"type\":\"Line\"},{\"attributes\":{},\"id\":\"6685\",\"type\":\"Selection\"},{\"attributes\":{\"data\":{\"left\":{\"__ndarray__\":\"QacNdNpAI0DD9Shcj8IlQERERERERChAxpJfLPnFKkBI4XoUrkctQMovlvxiyS9AJr9Y8oslMUBmZmZmZmYyQKgNdNpApzNA6LSBThvoNEAqXI/C9Sg2QGoDnTbQaTdAqqqqqqqqOEDsUbgehes5QCz5xZJfLDtAbqDTBjptPECuR+F6FK49QPDu7u7u7j5AGEt+seQXQEC4HoXrUbhAQFnyiyW/WEFA+sWSXyz5QUCamZmZmZlCQDptoNMGOkNA2kCnDXTaQ0B7FK5H4XpEQBzotIFOG0VAvLu7u7u7RUBcj8L1KFxGQP1iyS+W/EZA\",\"dtype\":\"float64\",\"order\":\"little\",\"shape\":[30]},\"right\":{\"__ndarray__\":\"w/UoXI/CJUBEREREREQoQMaSXyz5xSpASOF6FK5HLUDKL5b8YskvQCa/WPKLJTFAZmZmZmZmMkCoDXTaQKczQOi0gU4b6DRAKlyPwvUoNkBqA5020Gk3QKqqqqqqqjhA7FG4HoXrOUAs+cWSXyw7QG6g0wY6bTxArkfhehSuPUDw7u7u7u4+QBhLfrHkF0BAuB6F61G4QEBZ8oslv1hBQPrFkl8s+UFAmpmZmZmZQkA6baDTBjpDQNpApw102kNAexSuR+F6REAc6LSBThtFQLy7u7u7u0VAXI/C9ShcRkD9YskvlvxGQJ020GkDnUdA\",\"dtype\":\"float64\",\"order\":\"little\",\"shape\":[30]},\"top\":[3,4,6,39,17,22,16,36,21,18,14,26,15,21,17,22,12,14,16,11,10,10,6,6,2,2,0,3,2,1]},\"selected\":{\"id\":\"6685\"},\"selection_policy\":{\"id\":\"6699\"}},\"id\":\"6684\",\"type\":\"ColumnDataSource\"},{\"attributes\":{},\"id\":\"6681\",\"type\":\"BasicTickFormatter\"},{\"attributes\":{\"axis\":{\"id\":\"6662\"},\"dimension\":1,\"ticker\":{\"id\":\"6663\"}},\"id\":\"6665\",\"type\":\"Grid\"},{\"attributes\":{\"margin\":[5,5,5,5],\"name\":\"HSpacer11700\",\"sizing_mode\":\"stretch_width\"},\"id\":\"6646\",\"type\":\"Spacer\"},{\"attributes\":{},\"id\":\"6656\",\"type\":\"LinearScale\"},{\"attributes\":{\"bottom\":{\"value\":0},\"fill_color\":{\"value\":\"grey\"},\"left\":{\"field\":\"left\"},\"right\":{\"field\":\"right\"},\"top\":{\"field\":\"top\"}},\"id\":\"6687\",\"type\":\"Quad\"},{\"attributes\":{\"label\":{\"value\":\"mpg_val_in_bins\"},\"renderers\":[{\"id\":\"6690\"}]},\"id\":\"6701\",\"type\":\"LegendItem\"},{\"attributes\":{\"overlay\":{\"id\":\"6671\"}},\"id\":\"6669\",\"type\":\"BoxZoomTool\"},{\"attributes\":{\"data_source\":{\"id\":\"6702\"},\"glyph\":{\"id\":\"6705\"},\"hover_glyph\":null,\"muted_glyph\":{\"id\":\"6707\"},\"nonselection_glyph\":{\"id\":\"6706\"},\"selection_glyph\":null,\"view\":{\"id\":\"6709\"},\"y_range_name\":\"twiny\"},\"id\":\"6708\",\"type\":\"GlyphRenderer\"},{\"attributes\":{\"active_drag\":\"auto\",\"active_inspect\":\"auto\",\"active_multi\":null,\"active_scroll\":\"auto\",\"active_tap\":\"auto\",\"tools\":[{\"id\":\"6666\"},{\"id\":\"6667\"},{\"id\":\"6668\"},{\"id\":\"6669\"},{\"id\":\"6670\"}]},\"id\":\"6672\",\"type\":\"Toolbar\"},{\"attributes\":{\"bottom\":{\"value\":0},\"fill_alpha\":{\"value\":0.1},\"fill_color\":{\"value\":\"grey\"},\"left\":{\"field\":\"left\"},\"line_alpha\":{\"value\":0.1},\"right\":{\"field\":\"right\"},\"top\":{\"field\":\"top\"}},\"id\":\"6688\",\"type\":\"Quad\"},{\"attributes\":{\"line_color\":\"red\",\"line_width\":2,\"x\":{\"field\":\"x\"},\"y\":{\"field\":\"y\"}},\"id\":\"6705\",\"type\":\"Line\"},{\"attributes\":{\"end\":1.01,\"start\":0.00792},\"id\":\"6721\",\"type\":\"Range1d\"},{\"attributes\":{\"click_policy\":\"mute\",\"items\":[{\"id\":\"6701\"},{\"id\":\"6720\"}]},\"id\":\"6700\",\"type\":\"Legend\"},{\"attributes\":{},\"id\":\"6666\",\"type\":\"SaveTool\"},{\"attributes\":{},\"id\":\"6667\",\"type\":\"PanTool\"},{\"attributes\":{\"axis_label\":\"mpg_bins\",\"bounds\":\"auto\",\"formatter\":{\"id\":\"6679\"},\"major_label_orientation\":\"horizontal\",\"ticker\":{\"id\":\"6659\"}},\"id\":\"6658\",\"type\":\"LinearAxis\"},{\"attributes\":{},\"id\":\"6668\",\"type\":\"WheelZoomTool\"},{\"attributes\":{\"axis_label\":\"mpg_val_in_bins\",\"bounds\":\"auto\",\"formatter\":{\"id\":\"6681\"},\"major_label_orientation\":\"horizontal\",\"ticker\":{\"id\":\"6663\"}},\"id\":\"6662\",\"type\":\"LinearAxis\"},{\"attributes\":{},\"id\":\"6729\",\"type\":\"BasicTickFormatter\"},{\"attributes\":{\"below\":[{\"id\":\"6658\"}],\"center\":[{\"id\":\"6661\"},{\"id\":\"6665\"},{\"id\":\"6700\"}],\"extra_y_ranges\":{\"twiny\":{\"id\":\"6721\"}},\"left\":[{\"id\":\"6662\"}],\"margin\":[5,5,5,5],\"min_border_bottom\":10,\"min_border_left\":10,\"min_border_right\":10,\"min_border_top\":10,\"plot_height\":300,\"renderers\":[{\"id\":\"6690\"},{\"id\":\"6708\"}],\"right\":[{\"id\":\"6722\"}],\"sizing_mode\":\"fixed\",\"title\":{\"id\":\"6650\"},\"toolbar\":{\"id\":\"6672\"},\"x_range\":{\"id\":\"6647\"},\"x_scale\":{\"id\":\"6654\"},\"y_range\":{\"id\":\"6648\"},\"y_scale\":{\"id\":\"6656\"}},\"id\":\"6649\",\"subtype\":\"Figure\",\"type\":\"Plot\"},{\"attributes\":{},\"id\":\"6659\",\"type\":\"BasicTicker\"},{\"attributes\":{},\"id\":\"6679\",\"type\":\"BasicTickFormatter\"},{\"attributes\":{\"label\":{\"value\":\"mpg_cdf\"},\"renderers\":[{\"id\":\"6708\"}]},\"id\":\"6720\",\"type\":\"LegendItem\"},{\"attributes\":{\"source\":{\"id\":\"6702\"}},\"id\":\"6709\",\"type\":\"CDSView\"},{\"attributes\":{\"source\":{\"id\":\"6684\"}},\"id\":\"6691\",\"type\":\"CDSView\"},{\"attributes\":{},\"id\":\"6699\",\"type\":\"UnionRenderers\"},{\"attributes\":{\"children\":[{\"id\":\"6646\"},{\"id\":\"6649\"},{\"id\":\"6831\"}],\"margin\":[0,0,0,0],\"name\":\"Row11696\",\"tags\":[\"embedded\"]},\"id\":\"6645\",\"type\":\"Row\"},{\"attributes\":{},\"id\":\"6663\",\"type\":\"BasicTicker\"},{\"attributes\":{\"formatter\":{\"id\":\"6729\"},\"ticker\":{\"id\":\"6728\"},\"y_range_name\":\"twiny\"},\"id\":\"6722\",\"type\":\"LinearAxis\"},{\"attributes\":{\"data_source\":{\"id\":\"6684\"},\"glyph\":{\"id\":\"6687\"},\"hover_glyph\":null,\"muted_glyph\":{\"id\":\"6689\"},\"nonselection_glyph\":{\"id\":\"6688\"},\"selection_glyph\":null,\"view\":{\"id\":\"6691\"}},\"id\":\"6690\",\"type\":\"GlyphRenderer\"},{\"attributes\":{\"end\":49.10666666666667,\"reset_end\":49.10666666666667,\"reset_start\":7.746666666666667,\"start\":7.746666666666667,\"tags\":[[[\"mpg_bins\",\"mpg_bins\",null]]]},\"id\":\"6647\",\"type\":\"Range1d\"},{\"attributes\":{\"data\":{\"x\":{\"__ndarray__\":\"gk4b6LSBJEAEnTbQaQMnQIXrUbgehSlABzptoNMGLECJiIiIiIguQIXrUbgehTBAxpJfLPnFMUAHOm2g0wYzQEjhehSuRzRAiYiIiIiINUDKL5b8Ysk2QArXo3A9CjhAS36x5BdLOUCMJb9Y8os6QM3MzMzMzDtADnTaQKcNPUBPG+i0gU4+QJDC9Shcjz9A6LSBThtoQECJiIiIiAhBQClcj8L1qEFAyi+W/GJJQkBqA5020OlCQArXo3A9ikNAq6qqqqoqREBLfrHkF8tEQOxRuB6Fa0VAjCW/WPILRkAt+cWSX6xGQM3MzMzMTEdA\",\"dtype\":\"float64\",\"order\":\"little\",\"shape\":[30]},\"y\":{\"__ndarray__\":\"/Knx0k1igD8730+Nl26SP0w3iUFg5aA/oBov3SQGwT+6SQwCK4fGPxkEVg4tss0/Rrbz/dR40T9cj8L1KFzXP42XbhKDwNo/GQRWDi2y3T8AAAAAAADgP+kmMQisHOI/XI/C9Shc4z91kxgEVg7lPxBYObTIduY/qMZLN4lB6D+e76fGSzfpP5HtfD81Xuo/rkfhehSu6z/6fmq8dJPsP8dLN4lBYO0/aJHtfD817j/jpZvEILDuP166SQwCK+8/XI/C9Shc7z+F61G4HoXvP4XrUbgehe8/WDm0yHa+7z+BlUOLbOfvPwAAAAAAAPA/\",\"dtype\":\"float64\",\"order\":\"little\",\"shape\":[30]}},\"selected\":{\"id\":\"6703\"},\"selection_policy\":{\"id\":\"6719\"}},\"id\":\"6702\",\"type\":\"ColumnDataSource\"},{\"attributes\":{\"bottom\":{\"value\":0},\"fill_alpha\":{\"value\":0.2},\"fill_color\":{\"value\":\"grey\"},\"left\":{\"field\":\"left\"},\"line_alpha\":{\"value\":0.2},\"right\":{\"field\":\"right\"},\"top\":{\"field\":\"top\"}},\"id\":\"6689\",\"type\":\"Quad\"},{\"attributes\":{\"text\":\"\",\"text_color\":{\"value\":\"black\"},\"text_font_size\":{\"value\":\"12pt\"}},\"id\":\"6650\",\"type\":\"Title\"},{\"attributes\":{},\"id\":\"6670\",\"type\":\"ResetTool\"},{\"attributes\":{\"end\":42.9,\"name\":\"default\",\"reset_end\":42.9,\"reset_start\":0.0,\"tags\":[[[\"mpg_val_in_bins\",\"mpg_val_in_bins\",null]]]},\"id\":\"6648\",\"type\":\"Range1d\"},{\"attributes\":{},\"id\":\"6703\",\"type\":\"Selection\"},{\"attributes\":{\"bottom_units\":\"screen\",\"fill_alpha\":0.5,\"fill_color\":\"lightgrey\",\"left_units\":\"screen\",\"level\":\"overlay\",\"line_alpha\":1.0,\"line_color\":\"black\",\"line_dash\":[4,4],\"line_width\":2,\"right_units\":\"screen\",\"top_units\":\"screen\"},\"id\":\"6671\",\"type\":\"BoxAnnotation\"},{\"attributes\":{},\"id\":\"6719\",\"type\":\"UnionRenderers\"},{\"attributes\":{\"line_alpha\":0.2,\"line_color\":\"red\",\"line_width\":2,\"x\":{\"field\":\"x\"},\"y\":{\"field\":\"y\"}},\"id\":\"6707\",\"type\":\"Line\"},{\"attributes\":{},\"id\":\"6654\",\"type\":\"LinearScale\"},{\"attributes\":{},\"id\":\"6728\",\"type\":\"BasicTicker\"},{\"attributes\":{\"margin\":[5,5,5,5],\"name\":\"HSpacer11701\",\"sizing_mode\":\"stretch_width\"},\"id\":\"6831\",\"type\":\"Spacer\"}],\"root_ids\":[\"6645\"]},\"title\":\"Bokeh Application\",\"version\":\"2.2.3\"}};\n",
       "    var render_items = [{\"docid\":\"9935ee47-3d2f-4de7-b24d-272587e79d3e\",\"root_ids\":[\"6645\"],\"roots\":{\"6645\":\"11014ea6-544f-4b8e-a40f-d9866bf2ab72\"}}];\n",
       "    root.Bokeh.embed.embed_items_notebook(docs_json, render_items);\n",
       "  }\n",
       "  if (root.Bokeh !== undefined && root.Bokeh.Panel !== undefined) {\n",
       "    embed_document(root);\n",
       "  } else {\n",
       "    var attempts = 0;\n",
       "    var timer = setInterval(function(root) {\n",
       "      if (root.Bokeh !== undefined && root.Bokeh.Panel !== undefined) {\n",
       "        clearInterval(timer);\n",
       "        embed_document(root);\n",
       "      } else if (document.readyState == \"complete\") {\n",
       "        attempts++;\n",
       "        if (attempts > 100) {\n",
       "          clearInterval(timer);\n",
       "          console.log(\"Bokeh: ERROR: Unable to run BokehJS code because BokehJS library is missing\");\n",
       "        }\n",
       "      }\n",
       "    }, 10, root)\n",
       "  }\n",
       "})(window);</script>"
      ],
      "text/plain": [
       ":Overlay\n",
       "   .Histogram.Mpg_val_in_bins :Histogram   [mpg_bins]   (mpg_val_in_bins)\n",
       "   .Curve.Mpg_cdf             :Curve   [x]   (y)"
      ]
     },
     "metadata": {
      "application/vnd.holoviews_exec.v0+json": {
       "id": "6645"
      }
     },
     "output_type": "display_data"
    },
    {
     "data": {},
     "metadata": {},
     "output_type": "display_data"
    },
    {
     "data": {
      "application/vnd.holoviews_exec.v0+json": "",
      "text/html": [
       "<div id='6893'>\n",
       "\n",
       "\n",
       "\n",
       "\n",
       "\n",
       "  <div class=\"bk-root\" id=\"2c539a43-7f94-4d9d-81a3-2b51e8d9d972\" data-root-id=\"6893\"></div>\n",
       "</div>\n",
       "<script type=\"application/javascript\">(function(root) {\n",
       "  function embed_document(root) {\n",
       "    var docs_json = {\"37ab08a3-42ae-461f-bd68-ece00c72e97b\":{\"roots\":{\"references\":[{\"attributes\":{},\"id\":\"6933\",\"type\":\"Selection\"},{\"attributes\":{\"line_alpha\":0.1,\"line_color\":\"red\",\"line_width\":2,\"x\":{\"field\":\"x\"},\"y\":{\"field\":\"y\"}},\"id\":\"6954\",\"type\":\"Line\"},{\"attributes\":{\"axis\":{\"id\":\"6910\"},\"dimension\":1,\"ticker\":{\"id\":\"6911\"}},\"id\":\"6913\",\"type\":\"Grid\"},{\"attributes\":{\"children\":[{\"id\":\"6894\"},{\"id\":\"6897\"},{\"id\":\"7079\"}],\"margin\":[0,0,0,0],\"name\":\"Row12104\",\"tags\":[\"embedded\"]},\"id\":\"6893\",\"type\":\"Row\"},{\"attributes\":{\"active_drag\":\"auto\",\"active_inspect\":\"auto\",\"active_multi\":null,\"active_scroll\":\"auto\",\"active_tap\":\"auto\",\"tools\":[{\"id\":\"6914\"},{\"id\":\"6915\"},{\"id\":\"6916\"},{\"id\":\"6917\"},{\"id\":\"6918\"}]},\"id\":\"6920\",\"type\":\"Toolbar\"},{\"attributes\":{\"below\":[{\"id\":\"6906\"}],\"center\":[{\"id\":\"6909\"},{\"id\":\"6913\"},{\"id\":\"6948\"}],\"extra_y_ranges\":{\"twiny\":{\"id\":\"6969\"}},\"left\":[{\"id\":\"6910\"}],\"margin\":[5,5,5,5],\"min_border_bottom\":10,\"min_border_left\":10,\"min_border_right\":10,\"min_border_top\":10,\"plot_height\":300,\"renderers\":[{\"id\":\"6938\"},{\"id\":\"6956\"}],\"right\":[{\"id\":\"6970\"}],\"sizing_mode\":\"fixed\",\"title\":{\"id\":\"6898\"},\"toolbar\":{\"id\":\"6920\"},\"x_range\":{\"id\":\"6895\"},\"x_scale\":{\"id\":\"6902\"},\"y_range\":{\"id\":\"6896\"},\"y_scale\":{\"id\":\"6904\"}},\"id\":\"6897\",\"subtype\":\"Figure\",\"type\":\"Plot\"},{\"attributes\":{\"overlay\":{\"id\":\"6919\"}},\"id\":\"6917\",\"type\":\"BoxZoomTool\"},{\"attributes\":{},\"id\":\"6929\",\"type\":\"BasicTickFormatter\"},{\"attributes\":{\"margin\":[5,5,5,5],\"name\":\"HSpacer12108\",\"sizing_mode\":\"stretch_width\"},\"id\":\"6894\",\"type\":\"Spacer\"},{\"attributes\":{\"formatter\":{\"id\":\"6977\"},\"ticker\":{\"id\":\"6976\"},\"y_range_name\":\"twiny\"},\"id\":\"6970\",\"type\":\"LinearAxis\"},{\"attributes\":{},\"id\":\"6976\",\"type\":\"BasicTicker\"},{\"attributes\":{\"bottom_units\":\"screen\",\"fill_alpha\":0.5,\"fill_color\":\"lightgrey\",\"left_units\":\"screen\",\"level\":\"overlay\",\"line_alpha\":1.0,\"line_color\":\"black\",\"line_dash\":[4,4],\"line_width\":2,\"right_units\":\"screen\",\"top_units\":\"screen\"},\"id\":\"6919\",\"type\":\"BoxAnnotation\"},{\"attributes\":{},\"id\":\"6947\",\"type\":\"UnionRenderers\"},{\"attributes\":{\"source\":{\"id\":\"6932\"}},\"id\":\"6939\",\"type\":\"CDSView\"},{\"attributes\":{},\"id\":\"6951\",\"type\":\"Selection\"},{\"attributes\":{},\"id\":\"6915\",\"type\":\"PanTool\"},{\"attributes\":{\"data_source\":{\"id\":\"6932\"},\"glyph\":{\"id\":\"6935\"},\"hover_glyph\":null,\"muted_glyph\":{\"id\":\"6937\"},\"nonselection_glyph\":{\"id\":\"6936\"},\"selection_glyph\":null,\"view\":{\"id\":\"6939\"}},\"id\":\"6938\",\"type\":\"GlyphRenderer\"},{\"attributes\":{\"axis_label\":\"cyl_bins\",\"bounds\":\"auto\",\"formatter\":{\"id\":\"6927\"},\"major_label_orientation\":\"horizontal\",\"ticker\":{\"id\":\"6907\"}},\"id\":\"6906\",\"type\":\"LinearAxis\"},{\"attributes\":{\"label\":{\"value\":\"cyl_val_in_bins\"},\"renderers\":[{\"id\":\"6938\"}]},\"id\":\"6949\",\"type\":\"LegendItem\"},{\"attributes\":{\"label\":{\"value\":\"cyl_cdf\"},\"renderers\":[{\"id\":\"6956\"}]},\"id\":\"6968\",\"type\":\"LegendItem\"},{\"attributes\":{\"axis\":{\"id\":\"6906\"},\"ticker\":{\"id\":\"6907\"}},\"id\":\"6909\",\"type\":\"Grid\"},{\"attributes\":{\"text\":\"\",\"text_color\":{\"value\":\"black\"},\"text_font_size\":{\"value\":\"12pt\"}},\"id\":\"6898\",\"type\":\"Title\"},{\"attributes\":{},\"id\":\"6967\",\"type\":\"UnionRenderers\"},{\"attributes\":{},\"id\":\"6927\",\"type\":\"BasicTickFormatter\"},{\"attributes\":{},\"id\":\"6907\",\"type\":\"BasicTicker\"},{\"attributes\":{\"end\":8.333333333333334,\"reset_end\":8.333333333333334,\"reset_start\":2.833333333333333,\"start\":2.833333333333333,\"tags\":[[[\"cyl_bins\",\"cyl_bins\",null]]]},\"id\":\"6895\",\"type\":\"Range1d\"},{\"attributes\":{},\"id\":\"6911\",\"type\":\"BasicTicker\"},{\"attributes\":{\"data\":{\"x\":{\"__ndarray__\":\"VVVVVVVVCUCrqqqqqqoKQAAAAAAAAAxAVVVVVVVVDUCqqqqqqqoOQAAAAAAAABBAqqqqqqqqEEBVVVVVVVURQAAAAAAAABJAqqqqqqqqEkBVVVVVVVUTQAAAAAAAABRAqqqqqqqqFEBVVVVVVVUVQAAAAAAAABZAqqqqqqqqFkBVVVVVVVUXQAAAAAAAABhAqqqqqqqqGEBVVVVVVVUZQAAAAAAAABpAqqqqqqqqGkBVVVVVVVUbQAAAAAAAABxAqqqqqqqqHEBVVVVVVVUdQAAAAAAAAB5AqqqqqqqqHkBVVVVVVVUfQAAAAAAAACBA\",\"dtype\":\"float64\",\"order\":\"little\",\"shape\":[30]},\"y\":{\"__ndarray__\":\"exSuR+F6hD97FK5H4XqEP3sUrkfheoQ/exSuR+F6hD97FK5H4XqEP3sUrkfheoQ/+n5qvHST4D/6fmq8dJPgP/p+arx0k+A/+n5qvHST4D/6fmq8dJPgP/p+arx0k+A/okW28/3U4D+iRbbz/dTgP6JFtvP91OA/okW28/3U4D+iRbbz/dTgP6JFtvP91OA/L90kBoGV5z8v3SQGgZXnPy/dJAaBlec/L90kBoGV5z8v3SQGgZXnPy/dJAaBlec/L90kBoGV5z8v3SQGgZXnPy/dJAaBlec/L90kBoGV5z8v3SQGgZXnPwAAAAAAAPA/\",\"dtype\":\"float64\",\"order\":\"little\",\"shape\":[30]}},\"selected\":{\"id\":\"6951\"},\"selection_policy\":{\"id\":\"6967\"}},\"id\":\"6950\",\"type\":\"ColumnDataSource\"},{\"attributes\":{},\"id\":\"6918\",\"type\":\"ResetTool\"},{\"attributes\":{\"line_color\":\"red\",\"line_width\":2,\"x\":{\"field\":\"x\"},\"y\":{\"field\":\"y\"}},\"id\":\"6953\",\"type\":\"Line\"},{\"attributes\":{\"click_policy\":\"mute\",\"items\":[{\"id\":\"6949\"},{\"id\":\"6968\"}]},\"id\":\"6948\",\"type\":\"Legend\"},{\"attributes\":{},\"id\":\"6902\",\"type\":\"LinearScale\"},{\"attributes\":{},\"id\":\"6904\",\"type\":\"LinearScale\"},{\"attributes\":{},\"id\":\"6916\",\"type\":\"WheelZoomTool\"},{\"attributes\":{\"source\":{\"id\":\"6950\"}},\"id\":\"6957\",\"type\":\"CDSView\"},{\"attributes\":{\"margin\":[5,5,5,5],\"name\":\"HSpacer12109\",\"sizing_mode\":\"stretch_width\"},\"id\":\"7079\",\"type\":\"Spacer\"},{\"attributes\":{\"bottom\":{\"value\":0},\"fill_alpha\":{\"value\":0.2},\"fill_color\":{\"value\":\"grey\"},\"left\":{\"field\":\"left\"},\"line_alpha\":{\"value\":0.2},\"right\":{\"field\":\"right\"},\"top\":{\"field\":\"top\"}},\"id\":\"6937\",\"type\":\"Quad\"},{\"attributes\":{},\"id\":\"6977\",\"type\":\"BasicTickFormatter\"},{\"attributes\":{\"data\":{\"left\":{\"__ndarray__\":\"qqqqqqqqCEAAAAAAAAAKQFZVVVVVVQtAqqqqqqqqDEAAAAAAAAAOQFVVVVVVVQ9AVVVVVVVVEEAAAAAAAAARQKqqqqqqqhFAVVVVVVVVEkAAAAAAAAATQKqqqqqqqhNAVVVVVVVVFEAAAAAAAAAVQKqqqqqqqhVAVVVVVVVVFkAAAAAAAAAXQKqqqqqqqhdAVVVVVVVVGEAAAAAAAAAZQKqqqqqqqhlAVVVVVVVVGkAAAAAAAAAbQKqqqqqqqhtAVVVVVVVVHEAAAAAAAAAdQKqqqqqqqh1AVVVVVVVVHkAAAAAAAAAfQKqqqqqqqh9A\",\"dtype\":\"float64\",\"order\":\"little\",\"shape\":[30]},\"right\":{\"__ndarray__\":\"AAAAAAAACkBWVVVVVVULQKqqqqqqqgxAAAAAAAAADkBVVVVVVVUPQFVVVVVVVRBAAAAAAAAAEUCqqqqqqqoRQFVVVVVVVRJAAAAAAAAAE0CqqqqqqqoTQFVVVVVVVRRAAAAAAAAAFUCqqqqqqqoVQFVVVVVVVRZAAAAAAAAAF0CqqqqqqqoXQFVVVVVVVRhAAAAAAAAAGUCqqqqqqqoZQFVVVVVVVRpAAAAAAAAAG0CqqqqqqqobQFVVVVVVVRxAAAAAAAAAHUCqqqqqqqodQFVVVVVVVR5AAAAAAAAAH0CqqqqqqqofQKuqqqqqKiBA\",\"dtype\":\"float64\",\"order\":\"little\",\"shape\":[30]},\"top\":[4,0,0,0,0,0,199,0,0,0,0,0,3,0,0,0,0,0,83,0,0,0,0,0,0,0,0,0,0,103]},\"selected\":{\"id\":\"6933\"},\"selection_policy\":{\"id\":\"6947\"}},\"id\":\"6932\",\"type\":\"ColumnDataSource\"},{\"attributes\":{\"axis_label\":\"cyl_val_in_bins\",\"bounds\":\"auto\",\"formatter\":{\"id\":\"6929\"},\"major_label_orientation\":\"horizontal\",\"ticker\":{\"id\":\"6911\"}},\"id\":\"6910\",\"type\":\"LinearAxis\"},{\"attributes\":{\"line_alpha\":0.2,\"line_color\":\"red\",\"line_width\":2,\"x\":{\"field\":\"x\"},\"y\":{\"field\":\"y\"}},\"id\":\"6955\",\"type\":\"Line\"},{\"attributes\":{\"bottom\":{\"value\":0},\"fill_color\":{\"value\":\"grey\"},\"left\":{\"field\":\"left\"},\"right\":{\"field\":\"right\"},\"top\":{\"field\":\"top\"}},\"id\":\"6935\",\"type\":\"Quad\"},{\"attributes\":{\"end\":218.9,\"name\":\"default\",\"reset_end\":218.9,\"reset_start\":0.0,\"tags\":[[[\"cyl_val_in_bins\",\"cyl_val_in_bins\",null]]]},\"id\":\"6896\",\"type\":\"Range1d\"},{\"attributes\":{},\"id\":\"6914\",\"type\":\"SaveTool\"},{\"attributes\":{\"end\":1.01,\"start\":0.0099},\"id\":\"6969\",\"type\":\"Range1d\"},{\"attributes\":{\"bottom\":{\"value\":0},\"fill_alpha\":{\"value\":0.1},\"fill_color\":{\"value\":\"grey\"},\"left\":{\"field\":\"left\"},\"line_alpha\":{\"value\":0.1},\"right\":{\"field\":\"right\"},\"top\":{\"field\":\"top\"}},\"id\":\"6936\",\"type\":\"Quad\"},{\"attributes\":{\"data_source\":{\"id\":\"6950\"},\"glyph\":{\"id\":\"6953\"},\"hover_glyph\":null,\"muted_glyph\":{\"id\":\"6955\"},\"nonselection_glyph\":{\"id\":\"6954\"},\"selection_glyph\":null,\"view\":{\"id\":\"6957\"},\"y_range_name\":\"twiny\"},\"id\":\"6956\",\"type\":\"GlyphRenderer\"}],\"root_ids\":[\"6893\"]},\"title\":\"Bokeh Application\",\"version\":\"2.2.3\"}};\n",
       "    var render_items = [{\"docid\":\"37ab08a3-42ae-461f-bd68-ece00c72e97b\",\"root_ids\":[\"6893\"],\"roots\":{\"6893\":\"2c539a43-7f94-4d9d-81a3-2b51e8d9d972\"}}];\n",
       "    root.Bokeh.embed.embed_items_notebook(docs_json, render_items);\n",
       "  }\n",
       "  if (root.Bokeh !== undefined && root.Bokeh.Panel !== undefined) {\n",
       "    embed_document(root);\n",
       "  } else {\n",
       "    var attempts = 0;\n",
       "    var timer = setInterval(function(root) {\n",
       "      if (root.Bokeh !== undefined && root.Bokeh.Panel !== undefined) {\n",
       "        clearInterval(timer);\n",
       "        embed_document(root);\n",
       "      } else if (document.readyState == \"complete\") {\n",
       "        attempts++;\n",
       "        if (attempts > 100) {\n",
       "          clearInterval(timer);\n",
       "          console.log(\"Bokeh: ERROR: Unable to run BokehJS code because BokehJS library is missing\");\n",
       "        }\n",
       "      }\n",
       "    }, 10, root)\n",
       "  }\n",
       "})(window);</script>"
      ],
      "text/plain": [
       ":Overlay\n",
       "   .Histogram.Cyl_val_in_bins :Histogram   [cyl_bins]   (cyl_val_in_bins)\n",
       "   .Curve.Cyl_cdf             :Curve   [x]   (y)"
      ]
     },
     "metadata": {
      "application/vnd.holoviews_exec.v0+json": {
       "id": "6893"
      }
     },
     "output_type": "display_data"
    },
    {
     "data": {},
     "metadata": {},
     "output_type": "display_data"
    },
    {
     "data": {
      "application/vnd.holoviews_exec.v0+json": "",
      "text/html": [
       "<div id='7141'>\n",
       "\n",
       "\n",
       "\n",
       "\n",
       "\n",
       "  <div class=\"bk-root\" id=\"3f10a5e4-a91b-4964-94ce-c0d0bc96eb4a\" data-root-id=\"7141\"></div>\n",
       "</div>\n",
       "<script type=\"application/javascript\">(function(root) {\n",
       "  function embed_document(root) {\n",
       "    var docs_json = {\"0785c276-430c-4f52-b6ae-bb3f578b13c7\":{\"roots\":{\"references\":[{\"attributes\":{},\"id\":\"7195\",\"type\":\"UnionRenderers\"},{\"attributes\":{\"bottom_units\":\"screen\",\"fill_alpha\":0.5,\"fill_color\":\"lightgrey\",\"left_units\":\"screen\",\"level\":\"overlay\",\"line_alpha\":1.0,\"line_color\":\"black\",\"line_dash\":[4,4],\"line_width\":2,\"right_units\":\"screen\",\"top_units\":\"screen\"},\"id\":\"7167\",\"type\":\"BoxAnnotation\"},{\"attributes\":{},\"id\":\"7164\",\"type\":\"WheelZoomTool\"},{\"attributes\":{\"overlay\":{\"id\":\"7167\"}},\"id\":\"7165\",\"type\":\"BoxZoomTool\"},{\"attributes\":{},\"id\":\"7181\",\"type\":\"Selection\"},{\"attributes\":{\"children\":[{\"id\":\"7142\"},{\"id\":\"7145\"},{\"id\":\"7327\"}],\"margin\":[0,0,0,0],\"name\":\"Row12512\",\"tags\":[\"embedded\"]},\"id\":\"7141\",\"type\":\"Row\"},{\"attributes\":{\"click_policy\":\"mute\",\"items\":[{\"id\":\"7197\"},{\"id\":\"7216\"}]},\"id\":\"7196\",\"type\":\"Legend\"},{\"attributes\":{},\"id\":\"7162\",\"type\":\"SaveTool\"},{\"attributes\":{\"margin\":[5,5,5,5],\"name\":\"HSpacer12516\",\"sizing_mode\":\"stretch_width\"},\"id\":\"7142\",\"type\":\"Spacer\"},{\"attributes\":{\"axis_label\":\"displ_val_in_bins\",\"bounds\":\"auto\",\"formatter\":{\"id\":\"7177\"},\"major_label_orientation\":\"horizontal\",\"ticker\":{\"id\":\"7159\"}},\"id\":\"7158\",\"type\":\"LinearAxis\"},{\"attributes\":{},\"id\":\"7215\",\"type\":\"UnionRenderers\"},{\"attributes\":{},\"id\":\"7152\",\"type\":\"LinearScale\"},{\"attributes\":{\"axis\":{\"id\":\"7158\"},\"dimension\":1,\"ticker\":{\"id\":\"7159\"}},\"id\":\"7161\",\"type\":\"Grid\"},{\"attributes\":{\"bottom\":{\"value\":0},\"fill_alpha\":{\"value\":0.1},\"fill_color\":{\"value\":\"grey\"},\"left\":{\"field\":\"left\"},\"line_alpha\":{\"value\":0.1},\"right\":{\"field\":\"right\"},\"top\":{\"field\":\"top\"}},\"id\":\"7184\",\"type\":\"Quad\"},{\"attributes\":{},\"id\":\"7159\",\"type\":\"BasicTicker\"},{\"attributes\":{\"data\":{\"left\":{\"__ndarray__\":\"zszMzMycUkBmZmZmZtZVQAAAAAAAEFlAmpmZmZlJXEAzMzMzM4NfQGZmZmZmXmFANDMzMzP7YkAAAAAAAJhkQM3MzMzMNGZAmpmZmZnRZ0BmZmZmZm5pQDQzMzMzC2tAAAAAAACobEDNzMzMzERuQJqZmZmZ4W9AMzMzMzO/cECamZmZmY1xQAAAAAAAXHJAZ2ZmZmYqc0DNzMzMzPhzQDQzMzMzx3RAmpmZmZmVdUAAAAAAAGR2QGZmZmZmMndAzczMzMwAeEA0MzMzM894QJqZmZmZnXlAAAAAAABsekBmZmZmZjp7QM3MzMzMCHxA\",\"dtype\":\"float64\",\"order\":\"little\",\"shape\":[30]},\"right\":{\"__ndarray__\":\"ZmZmZmbWVUAAAAAAABBZQJqZmZmZSVxAMzMzMzODX0BmZmZmZl5hQDQzMzMz+2JAAAAAAACYZEDNzMzMzDRmQJqZmZmZ0WdAZmZmZmZuaUA0MzMzMwtrQAAAAAAAqGxAzczMzMxEbkCamZmZmeFvQDMzMzMzv3BAmpmZmZmNcUAAAAAAAFxyQGdmZmZmKnNAzczMzMz4c0A0MzMzM8d0QJqZmZmZlXVAAAAAAABkdkBmZmZmZjJ3QM3MzMzMAHhANDMzMzPPeECamZmZmZ15QAAAAAAAbHpAZmZmZmY6e0DNzMzMzAh8QDMzMzMz13xA\",\"dtype\":\"float64\",\"order\":\"little\",\"shape\":[30]},\"top\":[16,39,49,31,29,28,19,6,5,0,12,0,32,0,25,3,0,0,25,17,0,27,4,0,3,13,0,3,2,4]},\"selected\":{\"id\":\"7181\"},\"selection_policy\":{\"id\":\"7195\"}},\"id\":\"7180\",\"type\":\"ColumnDataSource\"},{\"attributes\":{\"axis_label\":\"displ_bins\",\"bounds\":\"auto\",\"formatter\":{\"id\":\"7175\"},\"major_label_orientation\":\"horizontal\",\"ticker\":{\"id\":\"7155\"}},\"id\":\"7154\",\"type\":\"LinearAxis\"},{\"attributes\":{},\"id\":\"7177\",\"type\":\"BasicTickFormatter\"},{\"attributes\":{},\"id\":\"7225\",\"type\":\"BasicTickFormatter\"},{\"attributes\":{\"bottom\":{\"value\":0},\"fill_color\":{\"value\":\"grey\"},\"left\":{\"field\":\"left\"},\"right\":{\"field\":\"right\"},\"top\":{\"field\":\"top\"}},\"id\":\"7183\",\"type\":\"Quad\"},{\"attributes\":{\"formatter\":{\"id\":\"7225\"},\"ticker\":{\"id\":\"7224\"},\"y_range_name\":\"twiny\"},\"id\":\"7218\",\"type\":\"LinearAxis\"},{\"attributes\":{},\"id\":\"7199\",\"type\":\"Selection\"},{\"attributes\":{\"label\":{\"value\":\"displ_val_in_bins\"},\"renderers\":[{\"id\":\"7186\"}]},\"id\":\"7197\",\"type\":\"LegendItem\"},{\"attributes\":{\"source\":{\"id\":\"7180\"}},\"id\":\"7187\",\"type\":\"CDSView\"},{\"attributes\":{\"bottom\":{\"value\":0},\"fill_alpha\":{\"value\":0.2},\"fill_color\":{\"value\":\"grey\"},\"left\":{\"field\":\"left\"},\"line_alpha\":{\"value\":0.2},\"right\":{\"field\":\"right\"},\"top\":{\"field\":\"top\"}},\"id\":\"7185\",\"type\":\"Quad\"},{\"attributes\":{\"data_source\":{\"id\":\"7198\"},\"glyph\":{\"id\":\"7201\"},\"hover_glyph\":null,\"muted_glyph\":{\"id\":\"7203\"},\"nonselection_glyph\":{\"id\":\"7202\"},\"selection_glyph\":null,\"view\":{\"id\":\"7205\"},\"y_range_name\":\"twiny\"},\"id\":\"7204\",\"type\":\"GlyphRenderer\"},{\"attributes\":{\"data_source\":{\"id\":\"7180\"},\"glyph\":{\"id\":\"7183\"},\"hover_glyph\":null,\"muted_glyph\":{\"id\":\"7185\"},\"nonselection_glyph\":{\"id\":\"7184\"},\"selection_glyph\":null,\"view\":{\"id\":\"7187\"}},\"id\":\"7186\",\"type\":\"GlyphRenderer\"},{\"attributes\":{},\"id\":\"7224\",\"type\":\"BasicTicker\"},{\"attributes\":{\"end\":53.9,\"name\":\"default\",\"reset_end\":53.9,\"reset_start\":0.0,\"tags\":[[[\"displ_val_in_bins\",\"displ_val_in_bins\",null]]]},\"id\":\"7144\",\"type\":\"Range1d\"},{\"attributes\":{\"label\":{\"value\":\"displ_cdf\"},\"renderers\":[{\"id\":\"7204\"}]},\"id\":\"7216\",\"type\":\"LegendItem\"},{\"attributes\":{\"line_alpha\":0.1,\"line_color\":\"red\",\"line_width\":2,\"x\":{\"field\":\"x\"},\"y\":{\"field\":\"y\"}},\"id\":\"7202\",\"type\":\"Line\"},{\"attributes\":{},\"id\":\"7175\",\"type\":\"BasicTickFormatter\"},{\"attributes\":{\"active_drag\":\"auto\",\"active_inspect\":\"auto\",\"active_multi\":null,\"active_scroll\":\"auto\",\"active_tap\":\"auto\",\"tools\":[{\"id\":\"7162\"},{\"id\":\"7163\"},{\"id\":\"7164\"},{\"id\":\"7165\"},{\"id\":\"7166\"}]},\"id\":\"7168\",\"type\":\"Toolbar\"},{\"attributes\":{\"line_color\":\"red\",\"line_width\":2,\"x\":{\"field\":\"x\"},\"y\":{\"field\":\"y\"}},\"id\":\"7201\",\"type\":\"Line\"},{\"attributes\":{\"data\":{\"x\":{\"__ndarray__\":\"mpmZmZk5VEAzMzMzM3NXQM3MzMzMrFpAZmZmZmbmXUAAAAAAAJBgQM3MzMzMLGJAmpmZmZnJY0BmZmZmZmZlQDQzMzMzA2dAAAAAAACgaEDNzMzMzDxqQJqZmZmZ2WtAZ2ZmZmZ2bUAzMzMzMxNvQAAAAAAAWHBAZmZmZmYmcUDNzMzMzPRxQDQzMzMzw3JAmpmZmZmRc0AAAAAAAGB0QGdmZmZmLnVAzczMzMz8dUAzMzMzM8t2QJqZmZmZmXdAAAAAAABoeEBnZmZmZjZ5QM3MzMzMBHpAMzMzMzPTekCamZmZmaF7QAAAAAAAcHxA\",\"dtype\":\"float64\",\"order\":\"little\",\"shape\":[30]},\"y\":{\"__ndarray__\":\"y6FFtvP9pD/sUbgehevBP/YoXI/C9dA/arx0kxgE1j+Nl24Sg8DaP1yPwvUoXN8/nu+nxks34T/ufD81XrrhP+kmMQisHOI/6SYxCKwc4j+0yHa+nxrjP7TIdr6fGuM/7nw/NV665T/ufD81XrrlP1g5tMh2vuc/AAAAAAAA6D8AAAAAAADoPwAAAAAAAOg/PzVeukkM6j8GgZVDi2zrPwaBlUOLbOs/bxKDwMqh7T/ByqFFtvPtP8HKoUW28+0/aJHtfD817j/dJAaBlUPvP90kBoGVQ+8/hetRuB6F7z+uR+F6FK7vPwAAAAAAAPA/\",\"dtype\":\"float64\",\"order\":\"little\",\"shape\":[30]}},\"selected\":{\"id\":\"7199\"},\"selection_policy\":{\"id\":\"7215\"}},\"id\":\"7198\",\"type\":\"ColumnDataSource\"},{\"attributes\":{\"source\":{\"id\":\"7198\"}},\"id\":\"7205\",\"type\":\"CDSView\"},{\"attributes\":{\"text\":\"\",\"text_color\":{\"value\":\"black\"},\"text_font_size\":{\"value\":\"12pt\"}},\"id\":\"7146\",\"type\":\"Title\"},{\"attributes\":{\"line_alpha\":0.2,\"line_color\":\"red\",\"line_width\":2,\"x\":{\"field\":\"x\"},\"y\":{\"field\":\"y\"}},\"id\":\"7203\",\"type\":\"Line\"},{\"attributes\":{},\"id\":\"7155\",\"type\":\"BasicTicker\"},{\"attributes\":{},\"id\":\"7150\",\"type\":\"LinearScale\"},{\"attributes\":{\"margin\":[5,5,5,5],\"name\":\"HSpacer12517\",\"sizing_mode\":\"stretch_width\"},\"id\":\"7327\",\"type\":\"Spacer\"},{\"attributes\":{\"end\":1.01,\"start\":0.04059},\"id\":\"7217\",\"type\":\"Range1d\"},{\"attributes\":{},\"id\":\"7166\",\"type\":\"ResetTool\"},{\"attributes\":{\"below\":[{\"id\":\"7154\"}],\"center\":[{\"id\":\"7157\"},{\"id\":\"7161\"},{\"id\":\"7196\"}],\"extra_y_ranges\":{\"twiny\":{\"id\":\"7217\"}},\"left\":[{\"id\":\"7158\"}],\"margin\":[5,5,5,5],\"min_border_bottom\":10,\"min_border_left\":10,\"min_border_right\":10,\"min_border_top\":10,\"plot_height\":300,\"renderers\":[{\"id\":\"7186\"},{\"id\":\"7204\"}],\"right\":[{\"id\":\"7218\"}],\"sizing_mode\":\"fixed\",\"title\":{\"id\":\"7146\"},\"toolbar\":{\"id\":\"7168\"},\"x_range\":{\"id\":\"7143\"},\"x_scale\":{\"id\":\"7150\"},\"y_range\":{\"id\":\"7144\"},\"y_scale\":{\"id\":\"7152\"}},\"id\":\"7145\",\"subtype\":\"Figure\",\"type\":\"Plot\"},{\"attributes\":{},\"id\":\"7163\",\"type\":\"PanTool\"},{\"attributes\":{\"end\":480.8,\"reset_end\":480.8,\"reset_start\":55.100000000000016,\"start\":55.100000000000016,\"tags\":[[[\"displ_bins\",\"displ_bins\",null]]]},\"id\":\"7143\",\"type\":\"Range1d\"},{\"attributes\":{\"axis\":{\"id\":\"7154\"},\"ticker\":{\"id\":\"7155\"}},\"id\":\"7157\",\"type\":\"Grid\"}],\"root_ids\":[\"7141\"]},\"title\":\"Bokeh Application\",\"version\":\"2.2.3\"}};\n",
       "    var render_items = [{\"docid\":\"0785c276-430c-4f52-b6ae-bb3f578b13c7\",\"root_ids\":[\"7141\"],\"roots\":{\"7141\":\"3f10a5e4-a91b-4964-94ce-c0d0bc96eb4a\"}}];\n",
       "    root.Bokeh.embed.embed_items_notebook(docs_json, render_items);\n",
       "  }\n",
       "  if (root.Bokeh !== undefined && root.Bokeh.Panel !== undefined) {\n",
       "    embed_document(root);\n",
       "  } else {\n",
       "    var attempts = 0;\n",
       "    var timer = setInterval(function(root) {\n",
       "      if (root.Bokeh !== undefined && root.Bokeh.Panel !== undefined) {\n",
       "        clearInterval(timer);\n",
       "        embed_document(root);\n",
       "      } else if (document.readyState == \"complete\") {\n",
       "        attempts++;\n",
       "        if (attempts > 100) {\n",
       "          clearInterval(timer);\n",
       "          console.log(\"Bokeh: ERROR: Unable to run BokehJS code because BokehJS library is missing\");\n",
       "        }\n",
       "      }\n",
       "    }, 10, root)\n",
       "  }\n",
       "})(window);</script>"
      ],
      "text/plain": [
       ":Overlay\n",
       "   .Histogram.Displ_val_in_bins :Histogram   [displ_bins]   (displ_val_in_bins)\n",
       "   .Curve.Displ_cdf             :Curve   [x]   (y)"
      ]
     },
     "metadata": {
      "application/vnd.holoviews_exec.v0+json": {
       "id": "7141"
      }
     },
     "output_type": "display_data"
    },
    {
     "data": {},
     "metadata": {},
     "output_type": "display_data"
    },
    {
     "data": {
      "application/vnd.holoviews_exec.v0+json": "",
      "text/html": [
       "<div id='7389'>\n",
       "\n",
       "\n",
       "\n",
       "\n",
       "\n",
       "  <div class=\"bk-root\" id=\"b9080b4b-526c-4caa-9830-60447de36dd5\" data-root-id=\"7389\"></div>\n",
       "</div>\n",
       "<script type=\"application/javascript\">(function(root) {\n",
       "  function embed_document(root) {\n",
       "    var docs_json = {\"98e7e797-e837-44e7-8284-7b36a8087254\":{\"roots\":{\"references\":[{\"attributes\":{\"line_alpha\":0.1,\"line_color\":\"red\",\"line_width\":2,\"x\":{\"field\":\"x\"},\"y\":{\"field\":\"y\"}},\"id\":\"7450\",\"type\":\"Line\"},{\"attributes\":{\"below\":[{\"id\":\"7402\"}],\"center\":[{\"id\":\"7405\"},{\"id\":\"7409\"},{\"id\":\"7444\"}],\"extra_y_ranges\":{\"twiny\":{\"id\":\"7465\"}},\"left\":[{\"id\":\"7406\"}],\"margin\":[5,5,5,5],\"min_border_bottom\":10,\"min_border_left\":10,\"min_border_right\":10,\"min_border_top\":10,\"plot_height\":300,\"renderers\":[{\"id\":\"7434\"},{\"id\":\"7452\"}],\"right\":[{\"id\":\"7466\"}],\"sizing_mode\":\"fixed\",\"title\":{\"id\":\"7394\"},\"toolbar\":{\"id\":\"7416\"},\"x_range\":{\"id\":\"7391\"},\"x_scale\":{\"id\":\"7398\"},\"y_range\":{\"id\":\"7392\"},\"y_scale\":{\"id\":\"7400\"}},\"id\":\"7393\",\"subtype\":\"Figure\",\"type\":\"Plot\"},{\"attributes\":{\"line_alpha\":0.2,\"line_color\":\"red\",\"line_width\":2,\"x\":{\"field\":\"x\"},\"y\":{\"field\":\"y\"}},\"id\":\"7451\",\"type\":\"Line\"},{\"attributes\":{},\"id\":\"7473\",\"type\":\"BasicTickFormatter\"},{\"attributes\":{\"bottom_units\":\"screen\",\"fill_alpha\":0.5,\"fill_color\":\"lightgrey\",\"left_units\":\"screen\",\"level\":\"overlay\",\"line_alpha\":1.0,\"line_color\":\"black\",\"line_dash\":[4,4],\"line_width\":2,\"right_units\":\"screen\",\"top_units\":\"screen\"},\"id\":\"7415\",\"type\":\"BoxAnnotation\"},{\"attributes\":{},\"id\":\"7429\",\"type\":\"Selection\"},{\"attributes\":{\"data\":{\"x\":{\"__ndarray__\":\"ERERERERSkAiIiIiIiJNQJqZmZmZGVBAIiIiIiKiUUCrqqqqqipTQDQzMzMzs1RAvLu7u7s7VkBERERERMRXQM3MzMzMTFlAVlVVVVXVWkDe3d3d3V1cQGdmZmZm5l1A7+7u7u5uX0C8u7u7u3tgQAAAAAAAQGFAREREREQEYkCJiIiIiMhiQM3MzMzMjGNAEhERERFRZEBWVVVVVRVlQJqZmZmZ2WVA3t3d3d2dZkAiIiIiImJnQGdmZmZmJmhAq6qqqqrqaEDv7u7u7q5pQDQzMzMzc2pAeHd3d3c3a0C8u7u7u/trQAAAAAAAwGxA\",\"dtype\":\"float64\",\"order\":\"little\",\"shape\":[30]},\"y\":{\"__ndarray__\":\"ObTIdr6fmj/b+X5qvHSjP0SLbOf7qbE/XrpJDAIrxz+iRbbz/dTQP4GVQ4ts59M/3SQGgZVD2z+e76fGSzfhP1g5tMh2vuM/y6FFtvP95D8MAiuHFtnmP1yPwvUoXOc/AAAAAAAA6D/6fmq8dJPoP0w3iUFg5eg/mG4Sg8DK6T9SuB6F61HsPyPb+X5qvOw/y6FFtvP97D/HSzeJQWDtP5huEoPAyu0/ObTIdr6f7j85tMh2vp/uP4ts5/up8e4/tMh2vp8a7z9eukkMAivvP1yPwvUoXO8/L90kBoGV7z+uR+F6FK7vPwAAAAAAAPA/\",\"dtype\":\"float64\",\"order\":\"little\",\"shape\":[30]}},\"selected\":{\"id\":\"7447\"},\"selection_policy\":{\"id\":\"7463\"}},\"id\":\"7446\",\"type\":\"ColumnDataSource\"},{\"attributes\":{},\"id\":\"7472\",\"type\":\"BasicTicker\"},{\"attributes\":{},\"id\":\"7398\",\"type\":\"LinearScale\"},{\"attributes\":{\"data\":{\"left\":{\"__ndarray__\":\"iIiIiIiISECamZmZmZlLQKuqqqqqqk5A3t3d3d3dUEBmZmZmZmZSQPDu7u7u7lNAeHd3d3d3VUAAAAAAAABXQIiIiIiIiFhAEhERERERWkCamZmZmZlbQCIiIiIiIl1Aq6qqqqqqXkCamZmZmRlgQN7d3d3d3WBAIiIiIiKiYUBmZmZmZmZiQKuqqqqqKmNA8O7u7u7uY0A0MzMzM7NkQHh3d3d3d2VAvLu7u7s7ZkAAAAAAAABnQERERERExGdAiYiIiIiIaEDNzMzMzExpQBIREREREWpAVlVVVVXVakCamZmZmZlrQN7d3d3dXWxA\",\"dtype\":\"float64\",\"order\":\"little\",\"shape\":[30]},\"right\":{\"__ndarray__\":\"mpmZmZmZS0CrqqqqqqpOQN7d3d3d3VBAZmZmZmZmUkDw7u7u7u5TQHh3d3d3d1VAAAAAAAAAV0CIiIiIiIhYQBIREREREVpAmpmZmZmZW0AiIiIiIiJdQKuqqqqqql5AmpmZmZkZYEDe3d3d3d1gQCIiIiIiomFAZmZmZmZmYkCrqqqqqipjQPDu7u7u7mNANDMzMzOzZEB4d3d3d3dlQLy7u7u7O2ZAAAAAAAAAZ0BERERERMRnQImIiIiIiGhAzczMzMxMaUASERERERFqQFZVVVVV1WpAmpmZmZmZa0De3d3d3V1sQCIiIiIiIm1A\",\"dtype\":\"float64\",\"order\":\"little\",\"shape\":[30]},\"top\":[10,5,12,44,32,19,45,44,31,15,23,6,8,7,4,11,31,5,3,5,5,10,0,4,2,1,2,3,1,4]},\"selected\":{\"id\":\"7429\"},\"selection_policy\":{\"id\":\"7443\"}},\"id\":\"7428\",\"type\":\"ColumnDataSource\"},{\"attributes\":{\"end\":49.5,\"name\":\"default\",\"reset_end\":49.5,\"reset_start\":0.0,\"tags\":[[[\"hp_val_in_bins\",\"hp_val_in_bins\",null]]]},\"id\":\"7392\",\"type\":\"Range1d\"},{\"attributes\":{\"bottom\":{\"value\":0},\"fill_alpha\":{\"value\":0.1},\"fill_color\":{\"value\":\"grey\"},\"left\":{\"field\":\"left\"},\"line_alpha\":{\"value\":0.1},\"right\":{\"field\":\"right\"},\"top\":{\"field\":\"top\"}},\"id\":\"7432\",\"type\":\"Quad\"},{\"attributes\":{\"end\":242.26666666666665,\"reset_end\":242.26666666666665,\"reset_start\":39.86666666666666,\"start\":39.86666666666666,\"tags\":[[[\"hp_bins\",\"hp_bins\",null]]]},\"id\":\"7391\",\"type\":\"Range1d\"},{\"attributes\":{\"bottom\":{\"value\":0},\"fill_color\":{\"value\":\"grey\"},\"left\":{\"field\":\"left\"},\"right\":{\"field\":\"right\"},\"top\":{\"field\":\"top\"}},\"id\":\"7431\",\"type\":\"Quad\"},{\"attributes\":{},\"id\":\"7403\",\"type\":\"BasicTicker\"},{\"attributes\":{\"line_color\":\"red\",\"line_width\":2,\"x\":{\"field\":\"x\"},\"y\":{\"field\":\"y\"}},\"id\":\"7449\",\"type\":\"Line\"},{\"attributes\":{},\"id\":\"7443\",\"type\":\"UnionRenderers\"},{\"attributes\":{\"axis\":{\"id\":\"7402\"},\"ticker\":{\"id\":\"7403\"}},\"id\":\"7405\",\"type\":\"Grid\"},{\"attributes\":{\"source\":{\"id\":\"7428\"}},\"id\":\"7435\",\"type\":\"CDSView\"},{\"attributes\":{\"axis\":{\"id\":\"7406\"},\"dimension\":1,\"ticker\":{\"id\":\"7407\"}},\"id\":\"7409\",\"type\":\"Grid\"},{\"attributes\":{},\"id\":\"7400\",\"type\":\"LinearScale\"},{\"attributes\":{\"bottom\":{\"value\":0},\"fill_alpha\":{\"value\":0.2},\"fill_color\":{\"value\":\"grey\"},\"left\":{\"field\":\"left\"},\"line_alpha\":{\"value\":0.2},\"right\":{\"field\":\"right\"},\"top\":{\"field\":\"top\"}},\"id\":\"7433\",\"type\":\"Quad\"},{\"attributes\":{\"active_drag\":\"auto\",\"active_inspect\":\"auto\",\"active_multi\":null,\"active_scroll\":\"auto\",\"active_tap\":\"auto\",\"tools\":[{\"id\":\"7410\"},{\"id\":\"7411\"},{\"id\":\"7412\"},{\"id\":\"7413\"},{\"id\":\"7414\"}]},\"id\":\"7416\",\"type\":\"Toolbar\"},{\"attributes\":{\"data_source\":{\"id\":\"7428\"},\"glyph\":{\"id\":\"7431\"},\"hover_glyph\":null,\"muted_glyph\":{\"id\":\"7433\"},\"nonselection_glyph\":{\"id\":\"7432\"},\"selection_glyph\":null,\"view\":{\"id\":\"7435\"}},\"id\":\"7434\",\"type\":\"GlyphRenderer\"},{\"attributes\":{\"axis_label\":\"hp_bins\",\"bounds\":\"auto\",\"formatter\":{\"id\":\"7423\"},\"major_label_orientation\":\"horizontal\",\"ticker\":{\"id\":\"7403\"}},\"id\":\"7402\",\"type\":\"LinearAxis\"},{\"attributes\":{},\"id\":\"7463\",\"type\":\"UnionRenderers\"},{\"attributes\":{},\"id\":\"7407\",\"type\":\"BasicTicker\"},{\"attributes\":{\"axis_label\":\"hp_val_in_bins\",\"bounds\":\"auto\",\"formatter\":{\"id\":\"7425\"},\"major_label_orientation\":\"horizontal\",\"ticker\":{\"id\":\"7407\"}},\"id\":\"7406\",\"type\":\"LinearAxis\"},{\"attributes\":{},\"id\":\"7411\",\"type\":\"PanTool\"},{\"attributes\":{},\"id\":\"7412\",\"type\":\"WheelZoomTool\"},{\"attributes\":{},\"id\":\"7423\",\"type\":\"BasicTickFormatter\"},{\"attributes\":{\"label\":{\"value\":\"hp_val_in_bins\"},\"renderers\":[{\"id\":\"7434\"}]},\"id\":\"7445\",\"type\":\"LegendItem\"},{\"attributes\":{},\"id\":\"7410\",\"type\":\"SaveTool\"},{\"attributes\":{\"overlay\":{\"id\":\"7415\"}},\"id\":\"7413\",\"type\":\"BoxZoomTool\"},{\"attributes\":{},\"id\":\"7414\",\"type\":\"ResetTool\"},{\"attributes\":{\"margin\":[5,5,5,5],\"name\":\"HSpacer12925\",\"sizing_mode\":\"stretch_width\"},\"id\":\"7575\",\"type\":\"Spacer\"},{\"attributes\":{\"margin\":[5,5,5,5],\"name\":\"HSpacer12924\",\"sizing_mode\":\"stretch_width\"},\"id\":\"7390\",\"type\":\"Spacer\"},{\"attributes\":{\"formatter\":{\"id\":\"7473\"},\"ticker\":{\"id\":\"7472\"},\"y_range_name\":\"twiny\"},\"id\":\"7466\",\"type\":\"LinearAxis\"},{\"attributes\":{\"source\":{\"id\":\"7446\"}},\"id\":\"7453\",\"type\":\"CDSView\"},{\"attributes\":{\"children\":[{\"id\":\"7390\"},{\"id\":\"7393\"},{\"id\":\"7575\"}],\"margin\":[0,0,0,0],\"name\":\"Row12920\",\"tags\":[\"embedded\"]},\"id\":\"7389\",\"type\":\"Row\"},{\"attributes\":{},\"id\":\"7425\",\"type\":\"BasicTickFormatter\"},{\"attributes\":{},\"id\":\"7447\",\"type\":\"Selection\"},{\"attributes\":{\"data_source\":{\"id\":\"7446\"},\"glyph\":{\"id\":\"7449\"},\"hover_glyph\":null,\"muted_glyph\":{\"id\":\"7451\"},\"nonselection_glyph\":{\"id\":\"7450\"},\"selection_glyph\":null,\"view\":{\"id\":\"7453\"},\"y_range_name\":\"twiny\"},\"id\":\"7452\",\"type\":\"GlyphRenderer\"},{\"attributes\":{\"label\":{\"value\":\"hp_cdf\"},\"renderers\":[{\"id\":\"7452\"}]},\"id\":\"7464\",\"type\":\"LegendItem\"},{\"attributes\":{\"end\":1.01,\"start\":0.02574},\"id\":\"7465\",\"type\":\"Range1d\"},{\"attributes\":{\"click_policy\":\"mute\",\"items\":[{\"id\":\"7445\"},{\"id\":\"7464\"}]},\"id\":\"7444\",\"type\":\"Legend\"},{\"attributes\":{\"text\":\"\",\"text_color\":{\"value\":\"black\"},\"text_font_size\":{\"value\":\"12pt\"}},\"id\":\"7394\",\"type\":\"Title\"}],\"root_ids\":[\"7389\"]},\"title\":\"Bokeh Application\",\"version\":\"2.2.3\"}};\n",
       "    var render_items = [{\"docid\":\"98e7e797-e837-44e7-8284-7b36a8087254\",\"root_ids\":[\"7389\"],\"roots\":{\"7389\":\"b9080b4b-526c-4caa-9830-60447de36dd5\"}}];\n",
       "    root.Bokeh.embed.embed_items_notebook(docs_json, render_items);\n",
       "  }\n",
       "  if (root.Bokeh !== undefined && root.Bokeh.Panel !== undefined) {\n",
       "    embed_document(root);\n",
       "  } else {\n",
       "    var attempts = 0;\n",
       "    var timer = setInterval(function(root) {\n",
       "      if (root.Bokeh !== undefined && root.Bokeh.Panel !== undefined) {\n",
       "        clearInterval(timer);\n",
       "        embed_document(root);\n",
       "      } else if (document.readyState == \"complete\") {\n",
       "        attempts++;\n",
       "        if (attempts > 100) {\n",
       "          clearInterval(timer);\n",
       "          console.log(\"Bokeh: ERROR: Unable to run BokehJS code because BokehJS library is missing\");\n",
       "        }\n",
       "      }\n",
       "    }, 10, root)\n",
       "  }\n",
       "})(window);</script>"
      ],
      "text/plain": [
       ":Overlay\n",
       "   .Histogram.Hp_val_in_bins :Histogram   [hp_bins]   (hp_val_in_bins)\n",
       "   .Curve.Hp_cdf             :Curve   [x]   (y)"
      ]
     },
     "metadata": {
      "application/vnd.holoviews_exec.v0+json": {
       "id": "7389"
      }
     },
     "output_type": "display_data"
    },
    {
     "data": {},
     "metadata": {},
     "output_type": "display_data"
    },
    {
     "data": {
      "application/vnd.holoviews_exec.v0+json": "",
      "text/html": [
       "<div id='7637'>\n",
       "\n",
       "\n",
       "\n",
       "\n",
       "\n",
       "  <div class=\"bk-root\" id=\"d275aecb-6f66-4403-89ba-8004284794f5\" data-root-id=\"7637\"></div>\n",
       "</div>\n",
       "<script type=\"application/javascript\">(function(root) {\n",
       "  function embed_document(root) {\n",
       "    var docs_json = {\"96a85687-71c0-4415-8249-5a13048fd329\":{\"roots\":{\"references\":[{\"attributes\":{\"click_policy\":\"mute\",\"items\":[{\"id\":\"7693\"},{\"id\":\"7712\"}]},\"id\":\"7692\",\"type\":\"Legend\"},{\"attributes\":{\"below\":[{\"id\":\"7650\"}],\"center\":[{\"id\":\"7653\"},{\"id\":\"7657\"},{\"id\":\"7692\"}],\"extra_y_ranges\":{\"twiny\":{\"id\":\"7713\"}},\"left\":[{\"id\":\"7654\"}],\"margin\":[5,5,5,5],\"min_border_bottom\":10,\"min_border_left\":10,\"min_border_right\":10,\"min_border_top\":10,\"plot_height\":300,\"renderers\":[{\"id\":\"7682\"},{\"id\":\"7700\"}],\"right\":[{\"id\":\"7714\"}],\"sizing_mode\":\"fixed\",\"title\":{\"id\":\"7642\"},\"toolbar\":{\"id\":\"7664\"},\"x_range\":{\"id\":\"7639\"},\"x_scale\":{\"id\":\"7646\"},\"y_range\":{\"id\":\"7640\"},\"y_scale\":{\"id\":\"7648\"}},\"id\":\"7641\",\"subtype\":\"Figure\",\"type\":\"Plot\"},{\"attributes\":{\"bottom_units\":\"screen\",\"fill_alpha\":0.5,\"fill_color\":\"lightgrey\",\"left_units\":\"screen\",\"level\":\"overlay\",\"line_alpha\":1.0,\"line_color\":\"black\",\"line_dash\":[4,4],\"line_width\":2,\"right_units\":\"screen\",\"top_units\":\"screen\"},\"id\":\"7663\",\"type\":\"BoxAnnotation\"},{\"attributes\":{\"text\":\"\",\"text_color\":{\"value\":\"black\"},\"text_font_size\":{\"value\":\"12pt\"}},\"id\":\"7642\",\"type\":\"Title\"},{\"attributes\":{},\"id\":\"7711\",\"type\":\"UnionRenderers\"},{\"attributes\":{},\"id\":\"7659\",\"type\":\"PanTool\"},{\"attributes\":{},\"id\":\"7646\",\"type\":\"LinearScale\"},{\"attributes\":{},\"id\":\"7677\",\"type\":\"Selection\"},{\"attributes\":{\"data\":{\"left\":{\"__ndarray__\":\"IiIiIiIfmkBmZmZmZvWbQKqqqqqqy51A7u7u7u6hn0CZmZmZGbygQLy7u7s7p6FA3t3d3V2SokAAAAAAgH2jQCIiIiKiaKRARERERMRTpUBmZmZm5j6mQImIiIgIKqdAq6qqqioVqEDNzMzMTACpQO/u7u5u66lAEREREZHWqkAzMzMzs8GrQFVVVVXVrKxAd3d3d/eXrUCZmZmZGYOuQLy7u7s7bq9A7+7u7q4ssEAAAAAAQKKwQBERERHRF7FAIiIiImKNsUAzMzMz8wKyQERERESEeLJAVVVVVRXuskBmZmZmpmOzQHh3d3c32bNA\",\"dtype\":\"float64\",\"order\":\"little\",\"shape\":[30]},\"right\":{\"__ndarray__\":\"ZmZmZmb1m0CqqqqqqsudQO7u7u7uoZ9AmZmZmRm8oEC8u7u7O6ehQN7d3d1dkqJAAAAAAIB9o0AiIiIiomikQERERETEU6VAZmZmZuY+pkCJiIiICCqnQKuqqqoqFahAzczMzEwAqUDv7u7ubuupQBERERGR1qpAMzMzM7PBq0BVVVVV1aysQHd3d3f3l61AmZmZmRmDrkC8u7u7O26vQO/u7u6uLLBAAAAAAECisEARERER0RexQCIiIiJijbFAMzMzM/MCskBEREREhHiyQFVVVVUV7rJAZmZmZqZjs0B4d3d3N9mzQIiIiIjITrRA\",\"dtype\":\"float64\",\"order\":\"little\",\"shape\":[30]},\"top\":[2,13,15,27,33,29,19,13,26,15,17,20,9,15,12,18,10,12,11,11,7,11,11,12,8,6,4,0,5,1]},\"selected\":{\"id\":\"7677\"},\"selection_policy\":{\"id\":\"7691\"}},\"id\":\"7676\",\"type\":\"ColumnDataSource\"},{\"attributes\":{\"label\":{\"value\":\"weight_cdf\"},\"renderers\":[{\"id\":\"7700\"}]},\"id\":\"7712\",\"type\":\"LegendItem\"},{\"attributes\":{\"bottom\":{\"value\":0},\"fill_alpha\":{\"value\":0.1},\"fill_color\":{\"value\":\"grey\"},\"left\":{\"field\":\"left\"},\"line_alpha\":{\"value\":0.1},\"right\":{\"field\":\"right\"},\"top\":{\"field\":\"top\"}},\"id\":\"7680\",\"type\":\"Quad\"},{\"attributes\":{\"end\":36.3,\"name\":\"default\",\"reset_end\":36.3,\"reset_start\":0.0,\"tags\":[[[\"weight_val_in_bins\",\"weight_val_in_bins\",null]]]},\"id\":\"7640\",\"type\":\"Range1d\"},{\"attributes\":{\"formatter\":{\"id\":\"7721\"},\"ticker\":{\"id\":\"7720\"},\"y_range_name\":\"twiny\"},\"id\":\"7714\",\"type\":\"LinearAxis\"},{\"attributes\":{\"end\":5375.133333333333,\"reset_end\":5375.133333333333,\"reset_start\":1495.4333333333334,\"start\":1495.4333333333334,\"tags\":[[[\"weight_bins\",\"weight_bins\",null]]]},\"id\":\"7639\",\"type\":\"Range1d\"},{\"attributes\":{\"bottom\":{\"value\":0},\"fill_color\":{\"value\":\"grey\"},\"left\":{\"field\":\"left\"},\"right\":{\"field\":\"right\"},\"top\":{\"field\":\"top\"}},\"id\":\"7679\",\"type\":\"Quad\"},{\"attributes\":{},\"id\":\"7721\",\"type\":\"BasicTickFormatter\"},{\"attributes\":{},\"id\":\"7651\",\"type\":\"BasicTicker\"},{\"attributes\":{},\"id\":\"7691\",\"type\":\"UnionRenderers\"},{\"attributes\":{\"axis\":{\"id\":\"7650\"},\"ticker\":{\"id\":\"7651\"}},\"id\":\"7653\",\"type\":\"Grid\"},{\"attributes\":{\"source\":{\"id\":\"7676\"}},\"id\":\"7683\",\"type\":\"CDSView\"},{\"attributes\":{\"axis\":{\"id\":\"7654\"},\"dimension\":1,\"ticker\":{\"id\":\"7655\"}},\"id\":\"7657\",\"type\":\"Grid\"},{\"attributes\":{},\"id\":\"7648\",\"type\":\"LinearScale\"},{\"attributes\":{\"bottom\":{\"value\":0},\"fill_alpha\":{\"value\":0.2},\"fill_color\":{\"value\":\"grey\"},\"left\":{\"field\":\"left\"},\"line_alpha\":{\"value\":0.2},\"right\":{\"field\":\"right\"},\"top\":{\"field\":\"top\"}},\"id\":\"7681\",\"type\":\"Quad\"},{\"attributes\":{\"data_source\":{\"id\":\"7676\"},\"glyph\":{\"id\":\"7679\"},\"hover_glyph\":null,\"muted_glyph\":{\"id\":\"7681\"},\"nonselection_glyph\":{\"id\":\"7680\"},\"selection_glyph\":null,\"view\":{\"id\":\"7683\"}},\"id\":\"7682\",\"type\":\"GlyphRenderer\"},{\"attributes\":{\"axis_label\":\"weight_bins\",\"bounds\":\"auto\",\"formatter\":{\"id\":\"7671\"},\"major_label_orientation\":\"horizontal\",\"ticker\":{\"id\":\"7651\"}},\"id\":\"7650\",\"type\":\"LinearAxis\"},{\"attributes\":{},\"id\":\"7720\",\"type\":\"BasicTicker\"},{\"attributes\":{},\"id\":\"7655\",\"type\":\"BasicTicker\"},{\"attributes\":{\"margin\":[5,5,5,5],\"name\":\"HSpacer13332\",\"sizing_mode\":\"stretch_width\"},\"id\":\"7638\",\"type\":\"Spacer\"},{\"attributes\":{\"axis_label\":\"weight_val_in_bins\",\"bounds\":\"auto\",\"formatter\":{\"id\":\"7673\"},\"major_label_orientation\":\"horizontal\",\"ticker\":{\"id\":\"7655\"}},\"id\":\"7654\",\"type\":\"LinearAxis\"},{\"attributes\":{},\"id\":\"7660\",\"type\":\"WheelZoomTool\"},{\"attributes\":{\"children\":[{\"id\":\"7638\"},{\"id\":\"7641\"},{\"id\":\"7823\"}],\"margin\":[0,0,0,0],\"name\":\"Row13328\",\"tags\":[\"embedded\"]},\"id\":\"7637\",\"type\":\"Row\"},{\"attributes\":{},\"id\":\"7671\",\"type\":\"BasicTickFormatter\"},{\"attributes\":{},\"id\":\"7658\",\"type\":\"SaveTool\"},{\"attributes\":{\"overlay\":{\"id\":\"7663\"}},\"id\":\"7661\",\"type\":\"BoxZoomTool\"},{\"attributes\":{},\"id\":\"7662\",\"type\":\"ResetTool\"},{\"attributes\":{\"margin\":[5,5,5,5],\"name\":\"HSpacer13333\",\"sizing_mode\":\"stretch_width\"},\"id\":\"7823\",\"type\":\"Spacer\"},{\"attributes\":{\"active_drag\":\"auto\",\"active_inspect\":\"auto\",\"active_multi\":null,\"active_scroll\":\"auto\",\"active_tap\":\"auto\",\"tools\":[{\"id\":\"7658\"},{\"id\":\"7659\"},{\"id\":\"7660\"},{\"id\":\"7661\"},{\"id\":\"7662\"}]},\"id\":\"7664\",\"type\":\"Toolbar\"},{\"attributes\":{\"data\":{\"x\":{\"__ndarray__\":\"REREREQKm0CIiIiIiOCcQM3MzMzMtp5AiIiIiIhGoECqqqqqqjGhQM3MzMzMHKJA7+7u7u4Ho0AREREREfOjQDMzMzMz3qRAVVVVVVXJpUB4d3d3d7SmQJqZmZmZn6dAvLu7u7uKqEDe3d3d3XWpQAAAAAAAYapAIiIiIiJMq0BERERERDesQGZmZmZmIq1AiIiIiIgNrkCqqqqqqviuQM3MzMzM469AeHd3d3dnsECIiIiICN2wQJqZmZmZUrFAqqqqqirIsUC8u7u7uz2yQMzMzMxMs7JA3t3d3d0os0Dv7u7ubp6zQAAAAAAAFLRA\",\"dtype\":\"float64\",\"order\":\"little\",\"shape\":[30]},\"y\":{\"__ndarray__\":\"exSuR+F6dD/b+X5qvHSjP4PAyqFFtrM/j8L1KFyPwj9xPQrXo3DNP9v5fmq8dNM/ukkMAiuH1j+kcD0K16PYPyGwcmiR7dw/XI/C9Shc3z91kxgEVg7hP+Olm8QgsOI/BoGVQ4ts4z+kcD0K16PkP28Sg8DKoeU/tMh2vp8a5z+BlUOLbOfnP0w3iUFg5eg/mG4Sg8DK6T/jpZvEILDqP90kBoGVQ+s/KVyPwvUo7D91kxgEVg7tPz81XrpJDO4/46WbxCCw7j9eukkMAivvP4XrUbgehe8/hetRuB6F7z+BlUOLbOfvPwAAAAAAAPA/\",\"dtype\":\"float64\",\"order\":\"little\",\"shape\":[30]}},\"selected\":{\"id\":\"7695\"},\"selection_policy\":{\"id\":\"7711\"}},\"id\":\"7694\",\"type\":\"ColumnDataSource\"},{\"attributes\":{\"line_alpha\":0.1,\"line_color\":\"red\",\"line_width\":2,\"x\":{\"field\":\"x\"},\"y\":{\"field\":\"y\"}},\"id\":\"7698\",\"type\":\"Line\"},{\"attributes\":{\"label\":{\"value\":\"weight_val_in_bins\"},\"renderers\":[{\"id\":\"7682\"}]},\"id\":\"7693\",\"type\":\"LegendItem\"},{\"attributes\":{},\"id\":\"7695\",\"type\":\"Selection\"},{\"attributes\":{},\"id\":\"7673\",\"type\":\"BasicTickFormatter\"},{\"attributes\":{\"line_alpha\":0.2,\"line_color\":\"red\",\"line_width\":2,\"x\":{\"field\":\"x\"},\"y\":{\"field\":\"y\"}},\"id\":\"7699\",\"type\":\"Line\"},{\"attributes\":{\"end\":1.01,\"start\":0.00495},\"id\":\"7713\",\"type\":\"Range1d\"},{\"attributes\":{\"line_color\":\"red\",\"line_width\":2,\"x\":{\"field\":\"x\"},\"y\":{\"field\":\"y\"}},\"id\":\"7697\",\"type\":\"Line\"},{\"attributes\":{\"data_source\":{\"id\":\"7694\"},\"glyph\":{\"id\":\"7697\"},\"hover_glyph\":null,\"muted_glyph\":{\"id\":\"7699\"},\"nonselection_glyph\":{\"id\":\"7698\"},\"selection_glyph\":null,\"view\":{\"id\":\"7701\"},\"y_range_name\":\"twiny\"},\"id\":\"7700\",\"type\":\"GlyphRenderer\"},{\"attributes\":{\"source\":{\"id\":\"7694\"}},\"id\":\"7701\",\"type\":\"CDSView\"}],\"root_ids\":[\"7637\"]},\"title\":\"Bokeh Application\",\"version\":\"2.2.3\"}};\n",
       "    var render_items = [{\"docid\":\"96a85687-71c0-4415-8249-5a13048fd329\",\"root_ids\":[\"7637\"],\"roots\":{\"7637\":\"d275aecb-6f66-4403-89ba-8004284794f5\"}}];\n",
       "    root.Bokeh.embed.embed_items_notebook(docs_json, render_items);\n",
       "  }\n",
       "  if (root.Bokeh !== undefined && root.Bokeh.Panel !== undefined) {\n",
       "    embed_document(root);\n",
       "  } else {\n",
       "    var attempts = 0;\n",
       "    var timer = setInterval(function(root) {\n",
       "      if (root.Bokeh !== undefined && root.Bokeh.Panel !== undefined) {\n",
       "        clearInterval(timer);\n",
       "        embed_document(root);\n",
       "      } else if (document.readyState == \"complete\") {\n",
       "        attempts++;\n",
       "        if (attempts > 100) {\n",
       "          clearInterval(timer);\n",
       "          console.log(\"Bokeh: ERROR: Unable to run BokehJS code because BokehJS library is missing\");\n",
       "        }\n",
       "      }\n",
       "    }, 10, root)\n",
       "  }\n",
       "})(window);</script>"
      ],
      "text/plain": [
       ":Overlay\n",
       "   .Histogram.Weight_val_in_bins :Histogram   [weight_bins]   (weight_val_in_bins)\n",
       "   .Curve.Weight_cdf             :Curve   [x]   (y)"
      ]
     },
     "metadata": {
      "application/vnd.holoviews_exec.v0+json": {
       "id": "7637"
      }
     },
     "output_type": "display_data"
    },
    {
     "data": {},
     "metadata": {},
     "output_type": "display_data"
    },
    {
     "data": {
      "application/vnd.holoviews_exec.v0+json": "",
      "text/html": [
       "<div id='7885'>\n",
       "\n",
       "\n",
       "\n",
       "\n",
       "\n",
       "  <div class=\"bk-root\" id=\"3b1cfd95-64e6-4b12-97c8-36dcf1bcb911\" data-root-id=\"7885\"></div>\n",
       "</div>\n",
       "<script type=\"application/javascript\">(function(root) {\n",
       "  function embed_document(root) {\n",
       "    var docs_json = {\"e317e8cc-90a0-48a5-92f8-96094ab37f95\":{\"roots\":{\"references\":[{\"attributes\":{},\"id\":\"7939\",\"type\":\"UnionRenderers\"},{\"attributes\":{\"below\":[{\"id\":\"7898\"}],\"center\":[{\"id\":\"7901\"},{\"id\":\"7905\"},{\"id\":\"7940\"}],\"extra_y_ranges\":{\"twiny\":{\"id\":\"7961\"}},\"left\":[{\"id\":\"7902\"}],\"margin\":[5,5,5,5],\"min_border_bottom\":10,\"min_border_left\":10,\"min_border_right\":10,\"min_border_top\":10,\"plot_height\":300,\"renderers\":[{\"id\":\"7930\"},{\"id\":\"7948\"}],\"right\":[{\"id\":\"7962\"}],\"sizing_mode\":\"fixed\",\"title\":{\"id\":\"7890\"},\"toolbar\":{\"id\":\"7912\"},\"x_range\":{\"id\":\"7887\"},\"x_scale\":{\"id\":\"7894\"},\"y_range\":{\"id\":\"7888\"},\"y_scale\":{\"id\":\"7896\"}},\"id\":\"7889\",\"subtype\":\"Figure\",\"type\":\"Plot\"},{\"attributes\":{},\"id\":\"7959\",\"type\":\"UnionRenderers\"},{\"attributes\":{\"bottom_units\":\"screen\",\"fill_alpha\":0.5,\"fill_color\":\"lightgrey\",\"left_units\":\"screen\",\"level\":\"overlay\",\"line_alpha\":1.0,\"line_color\":\"black\",\"line_dash\":[4,4],\"line_width\":2,\"right_units\":\"screen\",\"top_units\":\"screen\"},\"id\":\"7911\",\"type\":\"BoxAnnotation\"},{\"attributes\":{},\"id\":\"7925\",\"type\":\"Selection\"},{\"attributes\":{\"data\":{\"x\":{\"__ndarray__\":\"H4XrUbgeIUA+CtejcD0iQFyPwvUoXCNAexSuR+F6JECamZmZmZklQLgehetRuCZA16NwPQrXJ0D2KFyPwvUoQBWuR+F6FCpANDMzMzMzK0BSuB6F61EsQHE9CtejcC1AkML1KFyPLkCuR+F6FK4vQGZmZmZmZjBA9ihcj8L1MECG61G4HoUxQBWuR+F6FDJApHA9CtejMkA0MzMzMzMzQMP1KFyPwjNAUrgehetRNEDiehSuR+E0QHE9CtejcDVAAAAAAAAANkCQwvUoXI82QB+F61G4HjdArkfhehSuN0A+CtejcD04QM3MzMzMzDhA\",\"dtype\":\"float64\",\"order\":\"little\",\"shape\":[30]},\"y\":{\"__ndarray__\":\"/Knx0k1igD97FK5H4XqEP7gehetRuI4/ObTIdr6fmj956SYxCKycP9nO91Pjpas/001iEFg5tD956SYxCKy8P166SQwCK8c/XI/C9Shczz/b+X5qvHTTP0a28/3UeNk/aJHtfD813j8Sg8DKoUXiPylcj8L1KOQ/i2zn+6nx5j91kxgEVg7pP7pJDAIrh+o/16NwPQrX6z+e76fGSzftP+kmMQisHO4/ke18PzVe7j/jpZvEILDuP7TIdr6fGu8/BoGVQ4ts7z+uR+F6FK7vP65H4XoUru8/WDm0yHa+7z/Xo3A9CtfvPwAAAAAAAPA/\",\"dtype\":\"float64\",\"order\":\"little\",\"shape\":[30]}},\"selected\":{\"id\":\"7943\"},\"selection_policy\":{\"id\":\"7959\"}},\"id\":\"7942\",\"type\":\"ColumnDataSource\"},{\"attributes\":{},\"id\":\"7894\",\"type\":\"LinearScale\"},{\"attributes\":{\"data\":{\"left\":{\"__ndarray__\":\"kML1KFyPIECuR+F6FK4hQM3MzMzMzCJA7FG4HoXrI0AK16NwPQolQClcj8L1KCZASOF6FK5HJ0BmZmZmZmYoQIbrUbgehSlApHA9CtejKkDD9Shcj8IrQOJ6FK5H4SxAAAAAAAAALkAfhetRuB4vQB6F61G4HjBArkfhehSuMEA+CtejcD0xQM7MzMzMzDFAXI/C9ShcMkDsUbgehesyQHwUrkfhejNACtejcD0KNECamZmZmZk0QCpcj8L1KDVAuB6F61G4NUBI4XoUrkc2QNijcD0K1zZAZmZmZmZmN0D2KFyPwvU3QIbrUbgehThA\",\"dtype\":\"float64\",\"order\":\"little\",\"shape\":[30]},\"right\":{\"__ndarray__\":\"rkfhehSuIUDNzMzMzMwiQOxRuB6F6yNACtejcD0KJUApXI/C9SgmQEjhehSuRydAZmZmZmZmKECG61G4HoUpQKRwPQrXoypAw/UoXI/CK0DiehSuR+EsQAAAAAAAAC5AH4XrUbgeL0AehetRuB4wQK5H4XoUrjBAPgrXo3A9MUDOzMzMzMwxQFyPwvUoXDJA7FG4HoXrMkB8FK5H4XozQArXo3A9CjRAmpmZmZmZNEAqXI/C9Sg1QLgehetRuDVASOF6FK5HNkDYo3A9Ctc2QGZmZmZmZjdA9ihcj8L1N0CG61G4HoU4QBSuR+F6FDlA\",\"dtype\":\"float64\",\"order\":\"little\",\"shape\":[30]},\"top\":[3,1,2,4,1,10,10,13,27,25,23,37,29,39,23,34,26,18,16,17,11,3,4,5,4,3,0,1,1,2]},\"selected\":{\"id\":\"7925\"},\"selection_policy\":{\"id\":\"7939\"}},\"id\":\"7924\",\"type\":\"ColumnDataSource\"},{\"attributes\":{\"end\":1.01,\"start\":0.00792},\"id\":\"7961\",\"type\":\"Range1d\"},{\"attributes\":{\"end\":42.9,\"name\":\"default\",\"reset_end\":42.9,\"reset_start\":0.0,\"tags\":[[[\"accel_val_in_bins\",\"accel_val_in_bins\",null]]]},\"id\":\"7888\",\"type\":\"Range1d\"},{\"attributes\":{\"bottom\":{\"value\":0},\"fill_alpha\":{\"value\":0.1},\"fill_color\":{\"value\":\"grey\"},\"left\":{\"field\":\"left\"},\"line_alpha\":{\"value\":0.1},\"right\":{\"field\":\"right\"},\"top\":{\"field\":\"top\"}},\"id\":\"7928\",\"type\":\"Quad\"},{\"attributes\":{\"end\":25.919999999999998,\"reset_end\":25.919999999999998,\"reset_start\":7.440000000000001,\"start\":7.440000000000001,\"tags\":[[[\"accel_bins\",\"accel_bins\",null]]]},\"id\":\"7887\",\"type\":\"Range1d\"},{\"attributes\":{\"bottom\":{\"value\":0},\"fill_color\":{\"value\":\"grey\"},\"left\":{\"field\":\"left\"},\"right\":{\"field\":\"right\"},\"top\":{\"field\":\"top\"}},\"id\":\"7927\",\"type\":\"Quad\"},{\"attributes\":{},\"id\":\"7899\",\"type\":\"BasicTicker\"},{\"attributes\":{},\"id\":\"7969\",\"type\":\"BasicTickFormatter\"},{\"attributes\":{\"source\":{\"id\":\"7942\"}},\"id\":\"7949\",\"type\":\"CDSView\"},{\"attributes\":{\"axis\":{\"id\":\"7898\"},\"ticker\":{\"id\":\"7899\"}},\"id\":\"7901\",\"type\":\"Grid\"},{\"attributes\":{\"source\":{\"id\":\"7924\"}},\"id\":\"7931\",\"type\":\"CDSView\"},{\"attributes\":{},\"id\":\"7943\",\"type\":\"Selection\"},{\"attributes\":{\"axis\":{\"id\":\"7902\"},\"dimension\":1,\"ticker\":{\"id\":\"7903\"}},\"id\":\"7905\",\"type\":\"Grid\"},{\"attributes\":{},\"id\":\"7896\",\"type\":\"LinearScale\"},{\"attributes\":{\"bottom\":{\"value\":0},\"fill_alpha\":{\"value\":0.2},\"fill_color\":{\"value\":\"grey\"},\"left\":{\"field\":\"left\"},\"line_alpha\":{\"value\":0.2},\"right\":{\"field\":\"right\"},\"top\":{\"field\":\"top\"}},\"id\":\"7929\",\"type\":\"Quad\"},{\"attributes\":{\"active_drag\":\"auto\",\"active_inspect\":\"auto\",\"active_multi\":null,\"active_scroll\":\"auto\",\"active_tap\":\"auto\",\"tools\":[{\"id\":\"7906\"},{\"id\":\"7907\"},{\"id\":\"7908\"},{\"id\":\"7909\"},{\"id\":\"7910\"}]},\"id\":\"7912\",\"type\":\"Toolbar\"},{\"attributes\":{\"data_source\":{\"id\":\"7924\"},\"glyph\":{\"id\":\"7927\"},\"hover_glyph\":null,\"muted_glyph\":{\"id\":\"7929\"},\"nonselection_glyph\":{\"id\":\"7928\"},\"selection_glyph\":null,\"view\":{\"id\":\"7931\"}},\"id\":\"7930\",\"type\":\"GlyphRenderer\"},{\"attributes\":{\"axis_label\":\"accel_bins\",\"bounds\":\"auto\",\"formatter\":{\"id\":\"7919\"},\"major_label_orientation\":\"horizontal\",\"ticker\":{\"id\":\"7899\"}},\"id\":\"7898\",\"type\":\"LinearAxis\"},{\"attributes\":{\"data_source\":{\"id\":\"7942\"},\"glyph\":{\"id\":\"7945\"},\"hover_glyph\":null,\"muted_glyph\":{\"id\":\"7947\"},\"nonselection_glyph\":{\"id\":\"7946\"},\"selection_glyph\":null,\"view\":{\"id\":\"7949\"},\"y_range_name\":\"twiny\"},\"id\":\"7948\",\"type\":\"GlyphRenderer\"},{\"attributes\":{},\"id\":\"7968\",\"type\":\"BasicTicker\"},{\"attributes\":{\"click_policy\":\"mute\",\"items\":[{\"id\":\"7941\"},{\"id\":\"7960\"}]},\"id\":\"7940\",\"type\":\"Legend\"},{\"attributes\":{\"label\":{\"value\":\"accel_cdf\"},\"renderers\":[{\"id\":\"7948\"}]},\"id\":\"7960\",\"type\":\"LegendItem\"},{\"attributes\":{},\"id\":\"7903\",\"type\":\"BasicTicker\"},{\"attributes\":{\"line_color\":\"red\",\"line_width\":2,\"x\":{\"field\":\"x\"},\"y\":{\"field\":\"y\"}},\"id\":\"7945\",\"type\":\"Line\"},{\"attributes\":{\"axis_label\":\"accel_val_in_bins\",\"bounds\":\"auto\",\"formatter\":{\"id\":\"7921\"},\"major_label_orientation\":\"horizontal\",\"ticker\":{\"id\":\"7903\"}},\"id\":\"7902\",\"type\":\"LinearAxis\"},{\"attributes\":{},\"id\":\"7907\",\"type\":\"PanTool\"},{\"attributes\":{},\"id\":\"7908\",\"type\":\"WheelZoomTool\"},{\"attributes\":{},\"id\":\"7919\",\"type\":\"BasicTickFormatter\"},{\"attributes\":{\"line_alpha\":0.1,\"line_color\":\"red\",\"line_width\":2,\"x\":{\"field\":\"x\"},\"y\":{\"field\":\"y\"}},\"id\":\"7946\",\"type\":\"Line\"},{\"attributes\":{},\"id\":\"7906\",\"type\":\"SaveTool\"},{\"attributes\":{\"overlay\":{\"id\":\"7911\"}},\"id\":\"7909\",\"type\":\"BoxZoomTool\"},{\"attributes\":{},\"id\":\"7910\",\"type\":\"ResetTool\"},{\"attributes\":{\"line_alpha\":0.2,\"line_color\":\"red\",\"line_width\":2,\"x\":{\"field\":\"x\"},\"y\":{\"field\":\"y\"}},\"id\":\"7947\",\"type\":\"Line\"},{\"attributes\":{\"margin\":[5,5,5,5],\"name\":\"HSpacer13741\",\"sizing_mode\":\"stretch_width\"},\"id\":\"8071\",\"type\":\"Spacer\"},{\"attributes\":{\"margin\":[5,5,5,5],\"name\":\"HSpacer13740\",\"sizing_mode\":\"stretch_width\"},\"id\":\"7886\",\"type\":\"Spacer\"},{\"attributes\":{\"formatter\":{\"id\":\"7969\"},\"ticker\":{\"id\":\"7968\"},\"y_range_name\":\"twiny\"},\"id\":\"7962\",\"type\":\"LinearAxis\"},{\"attributes\":{\"children\":[{\"id\":\"7886\"},{\"id\":\"7889\"},{\"id\":\"8071\"}],\"margin\":[0,0,0,0],\"name\":\"Row13736\",\"tags\":[\"embedded\"]},\"id\":\"7885\",\"type\":\"Row\"},{\"attributes\":{},\"id\":\"7921\",\"type\":\"BasicTickFormatter\"},{\"attributes\":{\"label\":{\"value\":\"accel_val_in_bins\"},\"renderers\":[{\"id\":\"7930\"}]},\"id\":\"7941\",\"type\":\"LegendItem\"},{\"attributes\":{\"text\":\"\",\"text_color\":{\"value\":\"black\"},\"text_font_size\":{\"value\":\"12pt\"}},\"id\":\"7890\",\"type\":\"Title\"}],\"root_ids\":[\"7885\"]},\"title\":\"Bokeh Application\",\"version\":\"2.2.3\"}};\n",
       "    var render_items = [{\"docid\":\"e317e8cc-90a0-48a5-92f8-96094ab37f95\",\"root_ids\":[\"7885\"],\"roots\":{\"7885\":\"3b1cfd95-64e6-4b12-97c8-36dcf1bcb911\"}}];\n",
       "    root.Bokeh.embed.embed_items_notebook(docs_json, render_items);\n",
       "  }\n",
       "  if (root.Bokeh !== undefined && root.Bokeh.Panel !== undefined) {\n",
       "    embed_document(root);\n",
       "  } else {\n",
       "    var attempts = 0;\n",
       "    var timer = setInterval(function(root) {\n",
       "      if (root.Bokeh !== undefined && root.Bokeh.Panel !== undefined) {\n",
       "        clearInterval(timer);\n",
       "        embed_document(root);\n",
       "      } else if (document.readyState == \"complete\") {\n",
       "        attempts++;\n",
       "        if (attempts > 100) {\n",
       "          clearInterval(timer);\n",
       "          console.log(\"Bokeh: ERROR: Unable to run BokehJS code because BokehJS library is missing\");\n",
       "        }\n",
       "      }\n",
       "    }, 10, root)\n",
       "  }\n",
       "})(window);</script>"
      ],
      "text/plain": [
       ":Overlay\n",
       "   .Histogram.Accel_val_in_bins :Histogram   [accel_bins]   (accel_val_in_bins)\n",
       "   .Curve.Accel_cdf             :Curve   [x]   (y)"
      ]
     },
     "metadata": {
      "application/vnd.holoviews_exec.v0+json": {
       "id": "7885"
      }
     },
     "output_type": "display_data"
    },
    {
     "data": {},
     "metadata": {},
     "output_type": "display_data"
    },
    {
     "data": {
      "application/vnd.holoviews_exec.v0+json": "",
      "text/html": [
       "<div id='8133'>\n",
       "\n",
       "\n",
       "\n",
       "\n",
       "\n",
       "  <div class=\"bk-root\" id=\"cfa5d637-f8fb-4af6-98aa-8e89a484b2c0\" data-root-id=\"8133\"></div>\n",
       "</div>\n",
       "<script type=\"application/javascript\">(function(root) {\n",
       "  function embed_document(root) {\n",
       "    var docs_json = {\"da1a2e21-be07-4e4d-b6a6-588f0a3c89f8\":{\"roots\":{\"references\":[{\"attributes\":{\"line_color\":\"red\",\"line_width\":2,\"x\":{\"field\":\"x\"},\"y\":{\"field\":\"y\"}},\"id\":\"8193\",\"type\":\"Line\"},{\"attributes\":{\"below\":[{\"id\":\"8146\"}],\"center\":[{\"id\":\"8149\"},{\"id\":\"8153\"},{\"id\":\"8188\"}],\"extra_y_ranges\":{\"twiny\":{\"id\":\"8209\"}},\"left\":[{\"id\":\"8150\"}],\"margin\":[5,5,5,5],\"min_border_bottom\":10,\"min_border_left\":10,\"min_border_right\":10,\"min_border_top\":10,\"plot_height\":300,\"renderers\":[{\"id\":\"8178\"},{\"id\":\"8196\"}],\"right\":[{\"id\":\"8210\"}],\"sizing_mode\":\"fixed\",\"title\":{\"id\":\"8138\"},\"toolbar\":{\"id\":\"8160\"},\"x_range\":{\"id\":\"8135\"},\"x_scale\":{\"id\":\"8142\"},\"y_range\":{\"id\":\"8136\"},\"y_scale\":{\"id\":\"8144\"}},\"id\":\"8137\",\"subtype\":\"Figure\",\"type\":\"Plot\"},{\"attributes\":{\"line_alpha\":0.1,\"line_color\":\"red\",\"line_width\":2,\"x\":{\"field\":\"x\"},\"y\":{\"field\":\"y\"}},\"id\":\"8194\",\"type\":\"Line\"},{\"attributes\":{\"line_alpha\":0.2,\"line_color\":\"red\",\"line_width\":2,\"x\":{\"field\":\"x\"},\"y\":{\"field\":\"y\"}},\"id\":\"8195\",\"type\":\"Line\"},{\"attributes\":{\"source\":{\"id\":\"8190\"}},\"id\":\"8197\",\"type\":\"CDSView\"},{\"attributes\":{},\"id\":\"8173\",\"type\":\"Selection\"},{\"attributes\":{\"end\":1.01,\"start\":0.07325999999999999},\"id\":\"8209\",\"type\":\"Range1d\"},{\"attributes\":{\"bottom_units\":\"screen\",\"fill_alpha\":0.5,\"fill_color\":\"lightgrey\",\"left_units\":\"screen\",\"level\":\"overlay\",\"line_alpha\":1.0,\"line_color\":\"black\",\"line_dash\":[4,4],\"line_width\":2,\"right_units\":\"screen\",\"top_units\":\"screen\"},\"id\":\"8159\",\"type\":\"BoxAnnotation\"},{\"attributes\":{\"click_policy\":\"mute\",\"items\":[{\"id\":\"8189\"},{\"id\":\"8208\"}]},\"id\":\"8188\",\"type\":\"Legend\"},{\"attributes\":{\"text\":\"\",\"text_color\":{\"value\":\"black\"},\"text_font_size\":{\"value\":\"12pt\"}},\"id\":\"8138\",\"type\":\"Title\"},{\"attributes\":{\"label\":{\"value\":\"yr_cdf\"},\"renderers\":[{\"id\":\"8196\"}]},\"id\":\"8208\",\"type\":\"LegendItem\"},{\"attributes\":{},\"id\":\"8155\",\"type\":\"PanTool\"},{\"attributes\":{\"margin\":[5,5,5,5],\"name\":\"HSpacer14149\",\"sizing_mode\":\"stretch_width\"},\"id\":\"8319\",\"type\":\"Spacer\"},{\"attributes\":{\"bottom\":{\"value\":0},\"fill_alpha\":{\"value\":0.1},\"fill_color\":{\"value\":\"grey\"},\"left\":{\"field\":\"left\"},\"line_alpha\":{\"value\":0.1},\"right\":{\"field\":\"right\"},\"top\":{\"field\":\"top\"}},\"id\":\"8176\",\"type\":\"Quad\"},{\"attributes\":{},\"id\":\"8142\",\"type\":\"LinearScale\"},{\"attributes\":{\"data\":{\"left\":{\"__ndarray__\":\"zszMzMyMUUBmZmZmZqZRQAAAAAAAwFFAmpmZmZnZUUAzMzMzM/NRQM3MzMzMDFJAZmZmZmYmUkAAAAAAAEBSQJqZmZmZWVJAMzMzMzNzUkDNzMzMzIxSQGZmZmZmplJAAAAAAADAUkCamZmZmdlSQDMzMzMz81JAzczMzMwMU0BmZmZmZiZTQAAAAAAAQFNAmpmZmZlZU0AzMzMzM3NTQM3MzMzMjFNAZmZmZmamU0AAAAAAAMBTQJqZmZmZ2VNAMzMzMzPzU0DNzMzMzAxUQGZmZmZmJlRAAAAAAABAVECamZmZmVlUQDMzMzMzc1RA\",\"dtype\":\"float64\",\"order\":\"little\",\"shape\":[30]},\"right\":{\"__ndarray__\":\"ZmZmZmamUUAAAAAAAMBRQJqZmZmZ2VFAMzMzMzPzUUDNzMzMzAxSQGZmZmZmJlJAAAAAAABAUkCamZmZmVlSQDMzMzMzc1JAzczMzMyMUkBmZmZmZqZSQAAAAAAAwFJAmpmZmZnZUkAzMzMzM/NSQM3MzMzMDFNAZmZmZmYmU0AAAAAAAEBTQJqZmZmZWVNAMzMzMzNzU0DNzMzMzIxTQGZmZmZmplNAAAAAAADAU0CamZmZmdlTQDMzMzMz81NAzczMzMwMVEBmZmZmZiZUQAAAAAAAQFRAmpmZmZlZVEAzMzMzM3NUQM3MzMzMjFRA\",\"dtype\":\"float64\",\"order\":\"little\",\"shape\":[30]},\"top\":[29,0,27,0,0,28,0,40,0,0,26,0,30,0,0,34,0,28,0,0,36,0,29,0,0,27,0,28,0,30]},\"selected\":{\"id\":\"8173\"},\"selection_policy\":{\"id\":\"8187\"}},\"id\":\"8172\",\"type\":\"ColumnDataSource\"},{\"attributes\":{\"formatter\":{\"id\":\"8217\"},\"ticker\":{\"id\":\"8216\"},\"y_range_name\":\"twiny\"},\"id\":\"8210\",\"type\":\"LinearAxis\"},{\"attributes\":{\"end\":44.0,\"name\":\"default\",\"reset_end\":44.0,\"reset_start\":0.0,\"tags\":[[[\"yr_val_in_bins\",\"yr_val_in_bins\",null]]]},\"id\":\"8136\",\"type\":\"Range1d\"},{\"attributes\":{\"end\":82.8,\"reset_end\":82.8,\"reset_start\":69.60000000000002,\"start\":69.60000000000002,\"tags\":[[[\"yr_bins\",\"yr_bins\",null]]]},\"id\":\"8135\",\"type\":\"Range1d\"},{\"attributes\":{\"bottom\":{\"value\":0},\"fill_color\":{\"value\":\"grey\"},\"left\":{\"field\":\"left\"},\"right\":{\"field\":\"right\"},\"top\":{\"field\":\"top\"}},\"id\":\"8175\",\"type\":\"Quad\"},{\"attributes\":{},\"id\":\"8147\",\"type\":\"BasicTicker\"},{\"attributes\":{},\"id\":\"8187\",\"type\":\"UnionRenderers\"},{\"attributes\":{\"axis\":{\"id\":\"8146\"},\"ticker\":{\"id\":\"8147\"}},\"id\":\"8149\",\"type\":\"Grid\"},{\"attributes\":{\"source\":{\"id\":\"8172\"}},\"id\":\"8179\",\"type\":\"CDSView\"},{\"attributes\":{\"axis\":{\"id\":\"8150\"},\"dimension\":1,\"ticker\":{\"id\":\"8151\"}},\"id\":\"8153\",\"type\":\"Grid\"},{\"attributes\":{},\"id\":\"8144\",\"type\":\"LinearScale\"},{\"attributes\":{\"bottom\":{\"value\":0},\"fill_alpha\":{\"value\":0.2},\"fill_color\":{\"value\":\"grey\"},\"left\":{\"field\":\"left\"},\"line_alpha\":{\"value\":0.2},\"right\":{\"field\":\"right\"},\"top\":{\"field\":\"top\"}},\"id\":\"8177\",\"type\":\"Quad\"},{\"attributes\":{},\"id\":\"8207\",\"type\":\"UnionRenderers\"},{\"attributes\":{\"data_source\":{\"id\":\"8172\"},\"glyph\":{\"id\":\"8175\"},\"hover_glyph\":null,\"muted_glyph\":{\"id\":\"8177\"},\"nonselection_glyph\":{\"id\":\"8176\"},\"selection_glyph\":null,\"view\":{\"id\":\"8179\"}},\"id\":\"8178\",\"type\":\"GlyphRenderer\"},{\"attributes\":{\"axis_label\":\"yr_bins\",\"bounds\":\"auto\",\"formatter\":{\"id\":\"8167\"},\"major_label_orientation\":\"horizontal\",\"ticker\":{\"id\":\"8147\"}},\"id\":\"8146\",\"type\":\"LinearAxis\"},{\"attributes\":{},\"id\":\"8151\",\"type\":\"BasicTicker\"},{\"attributes\":{\"axis_label\":\"yr_val_in_bins\",\"bounds\":\"auto\",\"formatter\":{\"id\":\"8169\"},\"major_label_orientation\":\"horizontal\",\"ticker\":{\"id\":\"8151\"}},\"id\":\"8150\",\"type\":\"LinearAxis\"},{\"attributes\":{},\"id\":\"8156\",\"type\":\"WheelZoomTool\"},{\"attributes\":{\"data\":{\"x\":{\"__ndarray__\":\"mpmZmZmZUUAzMzMzM7NRQM3MzMzMzFFAZmZmZmbmUUAAAAAAAABSQJqZmZmZGVJAMzMzMzMzUkDNzMzMzExSQGZmZmZmZlJAAAAAAACAUkCamZmZmZlSQDMzMzMzs1JAzczMzMzMUkBmZmZmZuZSQAAAAAAAAFNAmpmZmZkZU0AzMzMzMzNTQM3MzMzMTFNAZmZmZmZmU0AAAAAAAIBTQJqZmZmZmVNAMzMzMzOzU0DNzMzMzMxTQGZmZmZm5lNAAAAAAAAAVECamZmZmRlUQDMzMzMzM1RAzczMzMxMVEBmZmZmZmZUQAAAAAAAgFRA\",\"dtype\":\"float64\",\"order\":\"little\",\"shape\":[30]},\"y\":{\"__ndarray__\":\"i2zn+6nxsj+LbOf7qfGyP+f7qfHSTcI/5/up8dJNwj/n+6nx0k3CPzEIrBxaZMs/MQisHFpkyz/TTWIQWDnUP9NNYhBYOdQ/001iEFg51D9QjZduEoPYP1CNl24Sg9g/x0s3iUFg3T/HSzeJQWDdP8dLN4lBYN0/Rrbz/dR44T9GtvP91HjhP1g5tMh2vuM/WDm0yHa+4z9YObTIdr7jP+Olm8QgsOY/46WbxCCw5j91kxgEVg7pP3WTGARWDuk/dZMYBFYO6T/dJAaBlUPrP90kBoGVQ+s/8KfGSzeJ7T/wp8ZLN4ntPwAAAAAAAPA/\",\"dtype\":\"float64\",\"order\":\"little\",\"shape\":[30]}},\"selected\":{\"id\":\"8191\"},\"selection_policy\":{\"id\":\"8207\"}},\"id\":\"8190\",\"type\":\"ColumnDataSource\"},{\"attributes\":{},\"id\":\"8167\",\"type\":\"BasicTickFormatter\"},{\"attributes\":{},\"id\":\"8154\",\"type\":\"SaveTool\"},{\"attributes\":{\"overlay\":{\"id\":\"8159\"}},\"id\":\"8157\",\"type\":\"BoxZoomTool\"},{\"attributes\":{},\"id\":\"8158\",\"type\":\"ResetTool\"},{\"attributes\":{\"active_drag\":\"auto\",\"active_inspect\":\"auto\",\"active_multi\":null,\"active_scroll\":\"auto\",\"active_tap\":\"auto\",\"tools\":[{\"id\":\"8154\"},{\"id\":\"8155\"},{\"id\":\"8156\"},{\"id\":\"8157\"},{\"id\":\"8158\"}]},\"id\":\"8160\",\"type\":\"Toolbar\"},{\"attributes\":{\"margin\":[5,5,5,5],\"name\":\"HSpacer14148\",\"sizing_mode\":\"stretch_width\"},\"id\":\"8134\",\"type\":\"Spacer\"},{\"attributes\":{\"data_source\":{\"id\":\"8190\"},\"glyph\":{\"id\":\"8193\"},\"hover_glyph\":null,\"muted_glyph\":{\"id\":\"8195\"},\"nonselection_glyph\":{\"id\":\"8194\"},\"selection_glyph\":null,\"view\":{\"id\":\"8197\"},\"y_range_name\":\"twiny\"},\"id\":\"8196\",\"type\":\"GlyphRenderer\"},{\"attributes\":{\"children\":[{\"id\":\"8134\"},{\"id\":\"8137\"},{\"id\":\"8319\"}],\"margin\":[0,0,0,0],\"name\":\"Row14144\",\"tags\":[\"embedded\"]},\"id\":\"8133\",\"type\":\"Row\"},{\"attributes\":{\"label\":{\"value\":\"yr_val_in_bins\"},\"renderers\":[{\"id\":\"8178\"}]},\"id\":\"8189\",\"type\":\"LegendItem\"},{\"attributes\":{},\"id\":\"8169\",\"type\":\"BasicTickFormatter\"},{\"attributes\":{},\"id\":\"8191\",\"type\":\"Selection\"},{\"attributes\":{},\"id\":\"8216\",\"type\":\"BasicTicker\"},{\"attributes\":{},\"id\":\"8217\",\"type\":\"BasicTickFormatter\"}],\"root_ids\":[\"8133\"]},\"title\":\"Bokeh Application\",\"version\":\"2.2.3\"}};\n",
       "    var render_items = [{\"docid\":\"da1a2e21-be07-4e4d-b6a6-588f0a3c89f8\",\"root_ids\":[\"8133\"],\"roots\":{\"8133\":\"cfa5d637-f8fb-4af6-98aa-8e89a484b2c0\"}}];\n",
       "    root.Bokeh.embed.embed_items_notebook(docs_json, render_items);\n",
       "  }\n",
       "  if (root.Bokeh !== undefined && root.Bokeh.Panel !== undefined) {\n",
       "    embed_document(root);\n",
       "  } else {\n",
       "    var attempts = 0;\n",
       "    var timer = setInterval(function(root) {\n",
       "      if (root.Bokeh !== undefined && root.Bokeh.Panel !== undefined) {\n",
       "        clearInterval(timer);\n",
       "        embed_document(root);\n",
       "      } else if (document.readyState == \"complete\") {\n",
       "        attempts++;\n",
       "        if (attempts > 100) {\n",
       "          clearInterval(timer);\n",
       "          console.log(\"Bokeh: ERROR: Unable to run BokehJS code because BokehJS library is missing\");\n",
       "        }\n",
       "      }\n",
       "    }, 10, root)\n",
       "  }\n",
       "})(window);</script>"
      ],
      "text/plain": [
       ":Overlay\n",
       "   .Histogram.Yr_val_in_bins :Histogram   [yr_bins]   (yr_val_in_bins)\n",
       "   .Curve.Yr_cdf             :Curve   [x]   (y)"
      ]
     },
     "metadata": {
      "application/vnd.holoviews_exec.v0+json": {
       "id": "8133"
      }
     },
     "output_type": "display_data"
    },
    {
     "data": {},
     "metadata": {},
     "output_type": "display_data"
    },
    {
     "data": {
      "application/vnd.holoviews_exec.v0+json": "",
      "text/html": [
       "<div id='8381'>\n",
       "\n",
       "\n",
       "\n",
       "\n",
       "\n",
       "  <div class=\"bk-root\" id=\"ad5c7b7c-474d-4099-a491-0a1a58b22ba6\" data-root-id=\"8381\"></div>\n",
       "</div>\n",
       "<script type=\"application/javascript\">(function(root) {\n",
       "  function embed_document(root) {\n",
       "    var docs_json = {\"36f9fa58-4115-4c85-8b4d-3acd4fbcc72e\":{\"roots\":{\"references\":[{\"attributes\":{\"text\":\"\",\"text_color\":{\"value\":\"black\"},\"text_font_size\":{\"value\":\"12pt\"}},\"id\":\"8386\",\"type\":\"Title\"},{\"attributes\":{\"line_alpha\":0.2,\"line_color\":\"red\",\"line_width\":2,\"x\":{\"field\":\"x\"},\"y\":{\"field\":\"y\"}},\"id\":\"8443\",\"type\":\"Line\"},{\"attributes\":{\"end\":1.01,\"start\":0.61875},\"id\":\"8457\",\"type\":\"Range1d\"},{\"attributes\":{\"label\":{\"value\":\"origin_cdf\"},\"renderers\":[{\"id\":\"8444\"}]},\"id\":\"8456\",\"type\":\"LegendItem\"},{\"attributes\":{\"below\":[{\"id\":\"8394\"}],\"center\":[{\"id\":\"8397\"},{\"id\":\"8401\"},{\"id\":\"8436\"}],\"extra_y_ranges\":{\"twiny\":{\"id\":\"8457\"}},\"left\":[{\"id\":\"8398\"}],\"margin\":[5,5,5,5],\"min_border_bottom\":10,\"min_border_left\":10,\"min_border_right\":10,\"min_border_top\":10,\"plot_height\":300,\"renderers\":[{\"id\":\"8426\"},{\"id\":\"8444\"}],\"right\":[{\"id\":\"8458\"}],\"sizing_mode\":\"fixed\",\"title\":{\"id\":\"8386\"},\"toolbar\":{\"id\":\"8408\"},\"x_range\":{\"id\":\"8383\"},\"x_scale\":{\"id\":\"8390\"},\"y_range\":{\"id\":\"8384\"},\"y_scale\":{\"id\":\"8392\"}},\"id\":\"8385\",\"subtype\":\"Figure\",\"type\":\"Plot\"},{\"attributes\":{},\"id\":\"8455\",\"type\":\"UnionRenderers\"},{\"attributes\":{\"bottom_units\":\"screen\",\"fill_alpha\":0.5,\"fill_color\":\"lightgrey\",\"left_units\":\"screen\",\"level\":\"overlay\",\"line_alpha\":1.0,\"line_color\":\"black\",\"line_dash\":[4,4],\"line_width\":2,\"right_units\":\"screen\",\"top_units\":\"screen\"},\"id\":\"8407\",\"type\":\"BoxAnnotation\"},{\"attributes\":{},\"id\":\"8421\",\"type\":\"Selection\"},{\"attributes\":{\"line_alpha\":0.1,\"line_color\":\"red\",\"line_width\":2,\"x\":{\"field\":\"x\"},\"y\":{\"field\":\"y\"}},\"id\":\"8442\",\"type\":\"Line\"},{\"attributes\":{\"source\":{\"id\":\"8438\"}},\"id\":\"8445\",\"type\":\"CDSView\"},{\"attributes\":{},\"id\":\"8390\",\"type\":\"LinearScale\"},{\"attributes\":{\"data\":{\"left\":{\"__ndarray__\":\"iIiIiIiI8D+amZmZmZnxP6qqqqqqqvI/vLu7u7u78z/MzMzMzMz0P97d3d3d3fU/7+7u7u7u9j8AAAAAAAD4PxEREREREfk/IiIiIiIi+j8zMzMzMzP7P0RERERERPw/VlVVVVVV/T9mZmZmZmb+P3h3d3d3d/8/REREREREAEDMzMzMzMwAQFZVVVVVVQFA3t3d3d3dAUBmZmZmZmYCQO7u7u7u7gJAeHd3d3d3A0AAAAAAAAAEQIiIiIiIiARAEhERERERBUCamZmZmZkFQCIiIiIiIgZAqqqqqqqqBkA0MzMzMzMHQLy7u7u7uwdA\",\"dtype\":\"float64\",\"order\":\"little\",\"shape\":[30]},\"right\":{\"__ndarray__\":\"mpmZmZmZ8T+qqqqqqqryP7y7u7u7u/M/zMzMzMzM9D/e3d3d3d31P+/u7u7u7vY/AAAAAAAA+D8RERERERH5PyIiIiIiIvo/MzMzMzMz+z9ERERERET8P1ZVVVVVVf0/ZmZmZmZm/j94d3d3d3f/P0RERERERABAzMzMzMzMAEBWVVVVVVUBQN7d3d3d3QFAZmZmZmZmAkDu7u7u7u4CQHh3d3d3dwNAAAAAAAAABECIiIiIiIgEQBIREREREQVAmpmZmZmZBUAiIiIiIiIGQKqqqqqqqgZANDMzMzMzB0C8u7u7u7sHQERERERERAhA\",\"dtype\":\"float64\",\"order\":\"little\",\"shape\":[30]},\"top\":[245,0,0,0,0,0,0,0,0,0,0,0,0,0,0,68,0,0,0,0,0,0,0,0,0,0,0,0,0,79]},\"selected\":{\"id\":\"8421\"},\"selection_policy\":{\"id\":\"8435\"}},\"id\":\"8420\",\"type\":\"ColumnDataSource\"},{\"attributes\":{\"end\":269.5,\"name\":\"default\",\"reset_end\":269.5,\"reset_start\":0.0,\"tags\":[[[\"origin_val_in_bins\",\"origin_val_in_bins\",null]]]},\"id\":\"8384\",\"type\":\"Range1d\"},{\"attributes\":{\"bottom\":{\"value\":0},\"fill_alpha\":{\"value\":0.1},\"fill_color\":{\"value\":\"grey\"},\"left\":{\"field\":\"left\"},\"line_alpha\":{\"value\":0.1},\"right\":{\"field\":\"right\"},\"top\":{\"field\":\"top\"}},\"id\":\"8424\",\"type\":\"Quad\"},{\"attributes\":{\"end\":3.1333333333333333,\"reset_end\":3.1333333333333333,\"reset_start\":0.9333333333333332,\"start\":0.9333333333333332,\"tags\":[[[\"origin_bins\",\"origin_bins\",null]]]},\"id\":\"8383\",\"type\":\"Range1d\"},{\"attributes\":{\"bottom\":{\"value\":0},\"fill_color\":{\"value\":\"grey\"},\"left\":{\"field\":\"left\"},\"right\":{\"field\":\"right\"},\"top\":{\"field\":\"top\"}},\"id\":\"8423\",\"type\":\"Quad\"},{\"attributes\":{},\"id\":\"8465\",\"type\":\"BasicTickFormatter\"},{\"attributes\":{},\"id\":\"8395\",\"type\":\"BasicTicker\"},{\"attributes\":{},\"id\":\"8435\",\"type\":\"UnionRenderers\"},{\"attributes\":{\"axis\":{\"id\":\"8394\"},\"ticker\":{\"id\":\"8395\"}},\"id\":\"8397\",\"type\":\"Grid\"},{\"attributes\":{\"source\":{\"id\":\"8420\"}},\"id\":\"8427\",\"type\":\"CDSView\"},{\"attributes\":{\"axis\":{\"id\":\"8398\"},\"dimension\":1,\"ticker\":{\"id\":\"8399\"}},\"id\":\"8401\",\"type\":\"Grid\"},{\"attributes\":{},\"id\":\"8392\",\"type\":\"LinearScale\"},{\"attributes\":{\"bottom\":{\"value\":0},\"fill_alpha\":{\"value\":0.2},\"fill_color\":{\"value\":\"grey\"},\"left\":{\"field\":\"left\"},\"line_alpha\":{\"value\":0.2},\"right\":{\"field\":\"right\"},\"top\":{\"field\":\"top\"}},\"id\":\"8425\",\"type\":\"Quad\"},{\"attributes\":{\"active_drag\":\"auto\",\"active_inspect\":\"auto\",\"active_multi\":null,\"active_scroll\":\"auto\",\"active_tap\":\"auto\",\"tools\":[{\"id\":\"8402\"},{\"id\":\"8403\"},{\"id\":\"8404\"},{\"id\":\"8405\"},{\"id\":\"8406\"}]},\"id\":\"8408\",\"type\":\"Toolbar\"},{\"attributes\":{\"data_source\":{\"id\":\"8420\"},\"glyph\":{\"id\":\"8423\"},\"hover_glyph\":null,\"muted_glyph\":{\"id\":\"8425\"},\"nonselection_glyph\":{\"id\":\"8424\"},\"selection_glyph\":null,\"view\":{\"id\":\"8427\"}},\"id\":\"8426\",\"type\":\"GlyphRenderer\"},{\"attributes\":{\"axis_label\":\"origin_bins\",\"bounds\":\"auto\",\"formatter\":{\"id\":\"8415\"},\"major_label_orientation\":\"horizontal\",\"ticker\":{\"id\":\"8395\"}},\"id\":\"8394\",\"type\":\"LinearAxis\"},{\"attributes\":{},\"id\":\"8464\",\"type\":\"BasicTicker\"},{\"attributes\":{},\"id\":\"8399\",\"type\":\"BasicTicker\"},{\"attributes\":{\"axis_label\":\"origin_val_in_bins\",\"bounds\":\"auto\",\"formatter\":{\"id\":\"8417\"},\"major_label_orientation\":\"horizontal\",\"ticker\":{\"id\":\"8399\"}},\"id\":\"8398\",\"type\":\"LinearAxis\"},{\"attributes\":{},\"id\":\"8403\",\"type\":\"PanTool\"},{\"attributes\":{},\"id\":\"8404\",\"type\":\"WheelZoomTool\"},{\"attributes\":{},\"id\":\"8415\",\"type\":\"BasicTickFormatter\"},{\"attributes\":{\"label\":{\"value\":\"origin_val_in_bins\"},\"renderers\":[{\"id\":\"8426\"}]},\"id\":\"8437\",\"type\":\"LegendItem\"},{\"attributes\":{},\"id\":\"8402\",\"type\":\"SaveTool\"},{\"attributes\":{\"overlay\":{\"id\":\"8407\"}},\"id\":\"8405\",\"type\":\"BoxZoomTool\"},{\"attributes\":{},\"id\":\"8406\",\"type\":\"ResetTool\"},{\"attributes\":{\"margin\":[5,5,5,5],\"name\":\"HSpacer14557\",\"sizing_mode\":\"stretch_width\"},\"id\":\"8567\",\"type\":\"Spacer\"},{\"attributes\":{\"line_color\":\"red\",\"line_width\":2,\"x\":{\"field\":\"x\"},\"y\":{\"field\":\"y\"}},\"id\":\"8441\",\"type\":\"Line\"},{\"attributes\":{\"margin\":[5,5,5,5],\"name\":\"HSpacer14556\",\"sizing_mode\":\"stretch_width\"},\"id\":\"8382\",\"type\":\"Spacer\"},{\"attributes\":{\"children\":[{\"id\":\"8382\"},{\"id\":\"8385\"},{\"id\":\"8567\"}],\"margin\":[0,0,0,0],\"name\":\"Row14552\",\"tags\":[\"embedded\"]},\"id\":\"8381\",\"type\":\"Row\"},{\"attributes\":{},\"id\":\"8417\",\"type\":\"BasicTickFormatter\"},{\"attributes\":{\"formatter\":{\"id\":\"8465\"},\"ticker\":{\"id\":\"8464\"},\"y_range_name\":\"twiny\"},\"id\":\"8458\",\"type\":\"LinearAxis\"},{\"attributes\":{\"data\":{\"x\":{\"__ndarray__\":\"ERERERER8T8iIiIiIiLyPzMzMzMzM/M/RERERERE9D9VVVVVVVX1P2ZmZmZmZvY/eHd3d3d39z+IiIiIiIj4P5qZmZmZmfk/qqqqqqqq+j+8u7u7u7v7P83MzMzMzPw/3t3d3d3d/T/v7u7u7u7+PwAAAAAAAABAiIiIiIiIAEAREREREREBQJqZmZmZmQFAIiIiIiIiAkCqqqqqqqoCQDMzMzMzMwNAvLu7u7u7A0BEREREREQEQM3MzMzMzARAVlVVVVVVBUDe3d3d3d0FQGZmZmZmZgZA7+7u7u7uBkB4d3d3d3cHQAAAAAAAAAhA\",\"dtype\":\"float64\",\"order\":\"little\",\"shape\":[30]},\"y\":{\"__ndarray__\":\"AAAAAAAA5D8AAAAAAADkPwAAAAAAAOQ/AAAAAAAA5D8AAAAAAADkPwAAAAAAAOQ/AAAAAAAA5D8AAAAAAADkPwAAAAAAAOQ/AAAAAAAA5D8AAAAAAADkPwAAAAAAAOQ/AAAAAAAA5D8AAAAAAADkPwAAAAAAAOQ/8KfGSzeJ6T/wp8ZLN4npP/Cnxks3iek/8KfGSzeJ6T/wp8ZLN4npP/Cnxks3iek/8KfGSzeJ6T/wp8ZLN4npP/Cnxks3iek/8KfGSzeJ6T/wp8ZLN4npP/Cnxks3iek/8KfGSzeJ6T/wp8ZLN4npPwAAAAAAAPA/\",\"dtype\":\"float64\",\"order\":\"little\",\"shape\":[30]}},\"selected\":{\"id\":\"8439\"},\"selection_policy\":{\"id\":\"8455\"}},\"id\":\"8438\",\"type\":\"ColumnDataSource\"},{\"attributes\":{},\"id\":\"8439\",\"type\":\"Selection\"},{\"attributes\":{\"data_source\":{\"id\":\"8438\"},\"glyph\":{\"id\":\"8441\"},\"hover_glyph\":null,\"muted_glyph\":{\"id\":\"8443\"},\"nonselection_glyph\":{\"id\":\"8442\"},\"selection_glyph\":null,\"view\":{\"id\":\"8445\"},\"y_range_name\":\"twiny\"},\"id\":\"8444\",\"type\":\"GlyphRenderer\"},{\"attributes\":{\"click_policy\":\"mute\",\"items\":[{\"id\":\"8437\"},{\"id\":\"8456\"}]},\"id\":\"8436\",\"type\":\"Legend\"}],\"root_ids\":[\"8381\"]},\"title\":\"Bokeh Application\",\"version\":\"2.2.3\"}};\n",
       "    var render_items = [{\"docid\":\"36f9fa58-4115-4c85-8b4d-3acd4fbcc72e\",\"root_ids\":[\"8381\"],\"roots\":{\"8381\":\"ad5c7b7c-474d-4099-a491-0a1a58b22ba6\"}}];\n",
       "    root.Bokeh.embed.embed_items_notebook(docs_json, render_items);\n",
       "  }\n",
       "  if (root.Bokeh !== undefined && root.Bokeh.Panel !== undefined) {\n",
       "    embed_document(root);\n",
       "  } else {\n",
       "    var attempts = 0;\n",
       "    var timer = setInterval(function(root) {\n",
       "      if (root.Bokeh !== undefined && root.Bokeh.Panel !== undefined) {\n",
       "        clearInterval(timer);\n",
       "        embed_document(root);\n",
       "      } else if (document.readyState == \"complete\") {\n",
       "        attempts++;\n",
       "        if (attempts > 100) {\n",
       "          clearInterval(timer);\n",
       "          console.log(\"Bokeh: ERROR: Unable to run BokehJS code because BokehJS library is missing\");\n",
       "        }\n",
       "      }\n",
       "    }, 10, root)\n",
       "  }\n",
       "})(window);</script>"
      ],
      "text/plain": [
       ":Overlay\n",
       "   .Histogram.Origin_val_in_bins :Histogram   [origin_bins]   (origin_val_in_bins)\n",
       "   .Curve.Origin_cdf             :Curve   [x]   (y)"
      ]
     },
     "metadata": {
      "application/vnd.holoviews_exec.v0+json": {
       "id": "8381"
      }
     },
     "output_type": "display_data"
    }
   ],
   "source": [
    "for col in autompg.columns:\n",
    "    df = create_hist_cdf(autompg, col, bins = 30)\n",
    "    col_val_bin = [col for col in df.columns if col.endswith('bins')][0]\n",
    "    col_cdf = [col for col in df.columns if col.endswith('cdf')][0]      \n",
    "    display(get_overlay(df, col_val_bin, col_cdf, \"asdfsadf\"))"
   ]
  },
  {
   "cell_type": "code",
   "execution_count": 60,
   "metadata": {},
   "outputs": [
    {
     "data": {
      "text/plain": [
       "<AxesSubplot:>"
      ]
     },
     "execution_count": 60,
     "metadata": {},
     "output_type": "execute_result"
    },
    {
     "data": {
      "image/png": "[encoded data removed]",
      "text/plain": [
       "<Figure size 432x288 with 1 Axes>"
      ]
     },
     "metadata": {
      "needs_background": "light"
     },
     "output_type": "display_data"
    }
   ],
   "source": [
    "autompg.mpg.hist(bins=30)"
   ]
  }
 ],
 "metadata": {
  "kernelspec": {
   "name": "python3",
   "display_name": "Python 3.8.6 64-bit ('blog': conda)",
   "metadata": {
    "interpreter": {
     "hash": "69703ff17dcc5b8f73cfcac6db5875d6ef9aaecd2bc66ec58bf9a15bf92018ac"
    }
   }
  },
  "language_info": {
   "codemirror_mode": {
    "name": "ipython",
    "version": 3
   },
   "file_extension": ".py",
   "mimetype": "text/x-python",
   "name": "python",
   "nbconvert_exporter": "python",
   "pygments_lexer": "ipython3",
   "version": "3.8.6-final"
  }
 },
 "nbformat": 4,
 "nbformat_minor": 4
}