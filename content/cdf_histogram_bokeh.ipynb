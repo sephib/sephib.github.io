{
 "metadata": {
  "language_info": {
   "codemirror_mode": {
    "name": "ipython",
    "version": 3
   },
   "file_extension": ".py",
   "mimetype": "text/x-python",
   "name": "python",
   "nbconvert_exporter": "python",
   "pygments_lexer": "ipython3",
   "version": 3
  },
  "orig_nbformat": 2
 },
 "nbformat": 4,
 "nbformat_minor": 2,
 "cells": [
  {
   "source": [
    "# Exploring data with CDF"
   ],
   "cell_type": "markdown",
   "metadata": {}
  },
  {
   "cell_type": "code",
   "execution_count": null,
   "metadata": {},
   "outputs": [],
   "source": [
    "from bokeh.layout import gridplot\n",
    "from bokeh.plotting import figure, output_file, show\n",
    "from bokeh.io  import output_notebook\n",
    "from bokeh.models import Range1d, LinearAxis, Hover|Tool\n",
    "from bokeh.resources import INLINE\n",
    "output_notebook(INLINE)\n",
    "from statsmodels.distributions.empirical_distribution import ECDF"
   ]
  },
  {
   "cell_type": "code",
   "execution_count": null,
   "metadata": {},
   "outputs": [],
   "source": [
    "def make_plot(title, hist, edges, x, cdf):\n",
    "    p = figure(tit)"
   ]
  }
 ]
}