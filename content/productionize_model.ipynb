{
 "metadata": {
  "language_info": {
   "codemirror_mode": {
    "name": "ipython",
    "version": 3
   },
   "file_extension": ".py",
   "mimetype": "text/x-python",
   "name": "python",
   "nbconvert_exporter": "python",
   "pygments_lexer": "ipython3",
   "version": 3
  },
  "orig_nbformat": 2
 },
 "nbformat": 4,
 "nbformat_minor": 2,
 "cells": [
  {
   "source": [
    "# productionizing a ml model code into production \n",
    "Configs design -   \n",
    "Environments  \n",
    "Vs. parameters  \n",
    "Paths - are absolute and not relative  \n",
    "Test - non existence  \n",
    "Using git - but still loads of comments   \n",
    "Building from scratch - not using an existing  framework (like mlflow)\n",
    "Various log technics  \n",
    "Consolidate into a dashboard  \n",
    "Defining variables  not next to the implementation of the code  \n",
    "Separate functionalities   \n",
    "Preprocess - Clean data - into interim (keeping schema like parquet)  \n",
    "Interim is the input for the pipeline transformation  \n",
    " \n",
    " "
   ],
   "cell_type": "markdown",
   "metadata": {}
  },
  {
   "source": [
    "## Background  \n",
    "Lately we had to move a ML project into production. The project has been in the works for several months - and since the software guidlines in our team are quite loose, some bad practices crept in, these included:  \n",
    "1. File location - although we have a [cookiecutter](https://drivendata.github.io/cookiecutter-data-science/) that we use - some files where missplaced - thus causing some clutterness in the code base.  \n",
    "2. Config files - had a mixture of Environment parameters with Veriable parameters  \n",
    "3. Paths - were absolute and not relative....  \n",
    "4. Test - non existance  \n",
    "5. Comments - although the project was part of our git repository - there was lots of comments within the code. This issue is complex since a ML project includes many experiments that were conducted while the ML model was developed. Recording this experiments and their outcomes is very important which lead us to the next point.  \n",
    "6. Building from scratch a logging system instead of using an existing designated framework. These days there are many frameworks for manging such porject and building something from scratch is mearly suboptimal. logs are uneven and the   \n",
    "1. \n",
    "\n",
    "there have been several steps that were required in order to productionize our code."
   ],
   "cell_type": "markdown",
   "metadata": {}
  },
  {
   "source": [
    "## Rolling up our sleavs  \n",
    "The first step that we needed to take is to understand the code and split up the functionalities into seperate processes. Each process has its own file and clear inputs and outputs. Additionally we had a framework that we already were using for running our ML projects - [mlflow](https://mlflow.org/).  \n",
    "The direction we took was enspired from the [mlflow multistep workflow example](https://github.com/mlflow/mlflow/tree/master/examples/multistep_workflow) which demonstaits how a project can be splitted into discrete steps while still enjoying the bells and wistels that a framework like `mlflow` has.  \n",
    "\n",
    "\n",
    "\n"
   ],
   "cell_type": "markdown",
   "metadata": {}
  },
  {
   "source": [
    "## Pipelines  \n",
    "When work"
   ],
   "cell_type": "markdown",
   "metadata": {}
  }
 ]
}